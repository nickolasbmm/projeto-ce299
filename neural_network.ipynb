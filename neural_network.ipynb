{
 "cells": [
  {
   "cell_type": "code",
   "execution_count": 2,
   "metadata": {},
   "outputs": [],
   "source": [
    "import tensorflow as tf\n",
    "\n",
    "from tensorflow.keras import layers, losses\n",
    "from tensorflow.keras import backend as K\n",
    "from tensorflow.keras.layers import Input,LSTM,RepeatVector,Dense,Lambda,TimeDistributed,Masking\n",
    "from tensorflow.keras.models import Model,Sequential\n",
    "from tensorflow.keras.utils import normalize\n",
    "\n",
    "import numpy as np\n",
    "import pandas as pd\n",
    "import csv\n",
    "from sklearn.preprocessing import MaxAbsScaler,MinMaxScaler,StandardScaler\n",
    "import glob,os\n",
    "from pathlib import Path\n",
    "from scipy import stats"
   ]
  },
  {
   "cell_type": "code",
   "execution_count": 3,
   "metadata": {},
   "outputs": [],
   "source": [
    "# with open(\"out.csv\",'r') as dest_f:\n",
    "#     data_iter = csv.reader(dest_f,delimiter = \",\")\n",
    "#     data = [np.array(data,dtype=int) for data in data_iter]\n",
    "#     # data = [x.reshape(x.shape[0],1,1) for x in data]\n",
    "# data_array = np.asarray(data, dtype = object)\n",
    "# data_array\n",
    "# padded_array2 = tf.keras.preprocessing.sequence.pad_sequences(data_array2,padding=\"post\")"
   ]
  },
  {
   "cell_type": "code",
   "execution_count": 4,
   "metadata": {},
   "outputs": [],
   "source": [
    "data_array = []\n",
    "author_id = []\n",
    "all_files = glob.glob(os.path.join(\"time_series/\", \"*.csv\"))   \n",
    "f_array = [] \n",
    "for f in all_files:\n",
    "    # data_iter = csv.reader(f,delimiter = \"\\n\")\n",
    "    f_array = pd.read_csv(f,dtype=int,header=None).transpose().squeeze().to_numpy()\n",
    "    data_array.append(f_array)\n",
    "    author_id.append(Path(f).stem)\n",
    "\n",
    "data_array = np.array(data_array,dtype = object)"
   ]
  },
  {
   "cell_type": "code",
   "execution_count": 5,
   "metadata": {},
   "outputs": [],
   "source": [
    "padded_array = tf.keras.preprocessing.sequence.pad_sequences(data_array,padding=\"post\")\n",
    "# padded_array = np.transpose(padded_array)"
   ]
  },
  {
   "cell_type": "code",
   "execution_count": 6,
   "metadata": {},
   "outputs": [
    {
     "data": {
      "text/plain": [
       "(2577, 2754, 1)"
      ]
     },
     "execution_count": 6,
     "metadata": {},
     "output_type": "execute_result"
    }
   ],
   "source": [
    "# reshape input into [samples, timesteps, features]\n",
    "padded_array = padded_array.reshape((padded_array.shape[0],padded_array.shape[1],1))\n",
    "padded_array.shape"
   ]
  },
  {
   "cell_type": "code",
   "execution_count": 7,
   "metadata": {},
   "outputs": [
    {
     "data": {
      "text/plain": [
       "array([[[ -5729],\n",
       "        [ 10043],\n",
       "        [   -30],\n",
       "        ...,\n",
       "        [     0],\n",
       "        [     0],\n",
       "        [     0]],\n",
       "\n",
       "       [[-66825],\n",
       "        [ 40625],\n",
       "        [  -799],\n",
       "        ...,\n",
       "        [     0],\n",
       "        [     0],\n",
       "        [     0]],\n",
       "\n",
       "       [[-61303],\n",
       "        [ 52578],\n",
       "        [  -472],\n",
       "        ...,\n",
       "        [     0],\n",
       "        [     0],\n",
       "        [     0]],\n",
       "\n",
       "       ...,\n",
       "\n",
       "       [[-37978],\n",
       "        [ 29976],\n",
       "        [ -1810],\n",
       "        ...,\n",
       "        [     0],\n",
       "        [     0],\n",
       "        [     0]],\n",
       "\n",
       "       [[ -6164],\n",
       "        [  2544],\n",
       "        [  -129],\n",
       "        ...,\n",
       "        [     0],\n",
       "        [     0],\n",
       "        [     0]],\n",
       "\n",
       "       [[ -6854],\n",
       "        [ 21276],\n",
       "        [-53478],\n",
       "        ...,\n",
       "        [     0],\n",
       "        [     0],\n",
       "        [     0]]])"
      ]
     },
     "execution_count": 7,
     "metadata": {},
     "output_type": "execute_result"
    }
   ],
   "source": [
    "padded_array"
   ]
  },
  {
   "cell_type": "code",
   "execution_count": 8,
   "metadata": {},
   "outputs": [],
   "source": [
    "scaler = MaxAbsScaler()\n",
    "padded_array = scaler.fit_transform(padded_array.reshape(-1, padded_array.shape[-1])).reshape(padded_array.shape)"
   ]
  },
  {
   "cell_type": "code",
   "execution_count": 9,
   "metadata": {},
   "outputs": [
    {
     "data": {
      "text/plain": [
       "array([[0.]])"
      ]
     },
     "execution_count": 9,
     "metadata": {},
     "output_type": "execute_result"
    }
   ],
   "source": [
    "scaler.transform([[0]])"
   ]
  },
  {
   "cell_type": "code",
   "execution_count": 10,
   "metadata": {},
   "outputs": [],
   "source": [
    "padded_array = np.where(padded_array==scaler.transform([[0]]), 0, padded_array)"
   ]
  },
  {
   "cell_type": "code",
   "execution_count": 11,
   "metadata": {},
   "outputs": [
    {
     "data": {
      "text/plain": [
       "array([[[-1.07479718e-04],\n",
       "        [ 1.88413127e-04],\n",
       "        [-5.62819259e-07],\n",
       "        ...,\n",
       "        [ 0.00000000e+00],\n",
       "        [ 0.00000000e+00],\n",
       "        [ 0.00000000e+00]],\n",
       "\n",
       "       [[-1.25367990e-03],\n",
       "        [ 7.62151080e-04],\n",
       "        [-1.49897529e-05],\n",
       "        ...,\n",
       "        [ 0.00000000e+00],\n",
       "        [ 0.00000000e+00],\n",
       "        [ 0.00000000e+00]],\n",
       "\n",
       "       [[-1.15008363e-03],\n",
       "        [ 9.86397034e-04],\n",
       "        [-8.85502301e-06],\n",
       "        ...,\n",
       "        [ 0.00000000e+00],\n",
       "        [ 0.00000000e+00],\n",
       "        [ 0.00000000e+00]],\n",
       "\n",
       "       ...,\n",
       "\n",
       "       [[-7.12491661e-04],\n",
       "        [ 5.62369004e-04],\n",
       "        [-3.39567620e-05],\n",
       "        ...,\n",
       "        [ 0.00000000e+00],\n",
       "        [ 0.00000000e+00],\n",
       "        [ 0.00000000e+00]],\n",
       "\n",
       "       [[-1.15640597e-04],\n",
       "        [ 4.77270732e-05],\n",
       "        [-2.42012281e-06],\n",
       "        ...,\n",
       "        [ 0.00000000e+00],\n",
       "        [ 0.00000000e+00],\n",
       "        [ 0.00000000e+00]],\n",
       "\n",
       "       [[-1.28585440e-04],\n",
       "        [ 3.99151419e-04],\n",
       "        [-1.00328161e-03],\n",
       "        ...,\n",
       "        [ 0.00000000e+00],\n",
       "        [ 0.00000000e+00],\n",
       "        [ 0.00000000e+00]]])"
      ]
     },
     "execution_count": 11,
     "metadata": {},
     "output_type": "execute_result"
    }
   ],
   "source": [
    "padded_array"
   ]
  },
  {
   "cell_type": "code",
   "execution_count": 42,
   "metadata": {},
   "outputs": [],
   "source": [
    "timesteps = padded_array.shape[1]  # Length of your sequences\n",
    "features = padded_array.shape[2]\n",
    "latent_dim = 16\n",
    "inter_dim = 64\n",
    "\n",
    "model = Sequential()\n",
    "model.add(Masking(mask_value=0, input_shape=(timesteps, features)))\n",
    "model.add(LSTM(inter_dim, activation='tanh',return_sequences=True))\n",
    "model.add(LSTM(latent_dim, activation='tanh',return_sequences=False))\n",
    "model.add(RepeatVector(timesteps))\n",
    "model.add(LSTM(latent_dim, activation='tanh', return_sequences=True))\n",
    "model.add(LSTM(inter_dim, activation='tanh', return_sequences=True))\n",
    "model.add(TimeDistributed(Dense(1,activation=\"tanh\")))\n",
    "\n",
    "# model.compile(optimizer='nadam', loss='mean_absolute_error',metrics=['accuracy'])\n",
    "model.compile(optimizer='nadam', loss='mse',metrics=['accuracy'])\n",
    "# model.compile(optimizer='nadam', loss=losses.categorical_crossentropy,metrics=['accuracy'])"
   ]
  },
  {
   "cell_type": "code",
   "execution_count": 43,
   "metadata": {},
   "outputs": [
    {
     "name": "stdout",
     "output_type": "stream",
     "text": [
      "Model: \"sequential_3\"\n",
      "_________________________________________________________________\n",
      " Layer (type)                Output Shape              Param #   \n",
      "=================================================================\n",
      " masking_3 (Masking)         (None, 2754, 1)           0         \n",
      "                                                                 \n",
      " lstm_12 (LSTM)              (None, 2754, 64)          16896     \n",
      "                                                                 \n",
      " lstm_13 (LSTM)              (None, 16)                5184      \n",
      "                                                                 \n",
      " repeat_vector_3 (RepeatVect  (None, 2754, 16)         0         \n",
      " or)                                                             \n",
      "                                                                 \n",
      " lstm_14 (LSTM)              (None, 2754, 16)          2112      \n",
      "                                                                 \n",
      " lstm_15 (LSTM)              (None, 2754, 64)          20736     \n",
      "                                                                 \n",
      " time_distributed_3 (TimeDis  (None, 2754, 1)          65        \n",
      " tributed)                                                       \n",
      "                                                                 \n",
      "=================================================================\n",
      "Total params: 44,993\n",
      "Trainable params: 44,993\n",
      "Non-trainable params: 0\n",
      "_________________________________________________________________\n"
     ]
    }
   ],
   "source": [
    "model.summary()"
   ]
  },
  {
   "cell_type": "code",
   "execution_count": 44,
   "metadata": {},
   "outputs": [
    {
     "name": "stdout",
     "output_type": "stream",
     "text": [
      "Epoch 1/5\n",
      "11/11 [==============================] - 19s 825ms/step - loss: 7.4822e-05 - accuracy: 0.9183\n",
      "Epoch 2/5\n",
      "11/11 [==============================] - 9s 825ms/step - loss: 5.4053e-05 - accuracy: 0.9183\n",
      "Epoch 3/5\n",
      "11/11 [==============================] - 9s 823ms/step - loss: 5.4280e-05 - accuracy: 0.9183\n",
      "Epoch 4/5\n",
      "11/11 [==============================] - 9s 815ms/step - loss: 5.1931e-05 - accuracy: 0.9183\n",
      "Epoch 5/5\n",
      "11/11 [==============================] - 9s 815ms/step - loss: 5.9978e-05 - accuracy: 0.9183\n"
     ]
    },
    {
     "data": {
      "text/plain": [
       "<keras.callbacks.History at 0x2db5b4659a0>"
      ]
     },
     "execution_count": 44,
     "metadata": {},
     "output_type": "execute_result"
    }
   ],
   "source": [
    "model.fit(padded_array,padded_array, epochs=5,batch_size=256)"
   ]
  },
  {
   "cell_type": "code",
   "execution_count": 45,
   "metadata": {},
   "outputs": [],
   "source": [
    "model.save(\"trained_model.h5\")"
   ]
  },
  {
   "cell_type": "code",
   "execution_count": 46,
   "metadata": {},
   "outputs": [
    {
     "data": {
      "text/plain": [
       "(1, 2754, 1)"
      ]
     },
     "execution_count": 46,
     "metadata": {},
     "output_type": "execute_result"
    }
   ],
   "source": [
    "test = padded_array[0]\n",
    "test = test.reshape((1,test.shape[0],test.shape[1]))\n",
    "test.shape"
   ]
  },
  {
   "cell_type": "code",
   "execution_count": 47,
   "metadata": {},
   "outputs": [
    {
     "data": {
      "text/plain": [
       "array([[[-1.07479718e-04],\n",
       "        [ 1.88413127e-04],\n",
       "        [-5.62819259e-07],\n",
       "        ...,\n",
       "        [ 0.00000000e+00],\n",
       "        [ 0.00000000e+00],\n",
       "        [ 0.00000000e+00]]])"
      ]
     },
     "execution_count": 47,
     "metadata": {},
     "output_type": "execute_result"
    }
   ],
   "source": [
    "test"
   ]
  },
  {
   "cell_type": "code",
   "execution_count": 48,
   "metadata": {},
   "outputs": [
    {
     "name": "stdout",
     "output_type": "stream",
     "text": [
      "(1, 2754, 1)\n",
      "[[[-0.00052311]\n",
      "  [-0.00079816]\n",
      "  [-0.00099661]\n",
      "  ...\n",
      "  [-0.00156379]\n",
      "  [-0.00156379]\n",
      "  [-0.00156379]]]\n"
     ]
    }
   ],
   "source": [
    "yhat = model.predict(test)\n",
    "print(yhat.shape)\n",
    "print(yhat)"
   ]
  },
  {
   "cell_type": "code",
   "execution_count": 49,
   "metadata": {},
   "outputs": [
    {
     "name": "stdout",
     "output_type": "stream",
     "text": [
      "Model: \"model_1\"\n",
      "_________________________________________________________________\n",
      " Layer (type)                Output Shape              Param #   \n",
      "=================================================================\n",
      " masking_3_input (InputLayer  [(None, 2754, 1)]        0         \n",
      " )                                                               \n",
      "                                                                 \n",
      " masking_3 (Masking)         (None, 2754, 1)           0         \n",
      "                                                                 \n",
      " lstm_12 (LSTM)              (None, 2754, 64)          16896     \n",
      "                                                                 \n",
      " lstm_13 (LSTM)              (None, 16)                5184      \n",
      "                                                                 \n",
      "=================================================================\n",
      "Total params: 22,080\n",
      "Trainable params: 22,080\n",
      "Non-trainable params: 0\n",
      "_________________________________________________________________\n"
     ]
    }
   ],
   "source": [
    "latent_model = Model(inputs=model.inputs, outputs=model.layers[2].output)\n",
    "latent_model.summary()"
   ]
  },
  {
   "cell_type": "code",
   "execution_count": 50,
   "metadata": {},
   "outputs": [
    {
     "name": "stdout",
     "output_type": "stream",
     "text": [
      "(1, 16)\n",
      "[[-1.10528585e-04  1.99928484e-03 -4.99854621e-04 -4.29386244e-04\n",
      "   7.52623950e-04  9.39589343e-04 -3.05009802e-04  5.46530937e-04\n",
      "   2.57382693e-04 -1.33266463e-03  2.70463090e-04  6.47877168e-05\n",
      "   8.72704957e-04 -1.50392740e-03 -7.91431114e-04  3.06083879e-04]]\n"
     ]
    }
   ],
   "source": [
    "yhat = latent_model.predict(test)\n",
    "print(yhat.shape)\n",
    "print(yhat)"
   ]
  },
  {
   "cell_type": "code",
   "execution_count": 51,
   "metadata": {},
   "outputs": [
    {
     "name": "stdout",
     "output_type": "stream",
     "text": [
      "(2577, 16)\n",
      "[[-1.10528694e-04  1.99928484e-03 -4.99854563e-04 ... -1.50392740e-03\n",
      "  -7.91430939e-04  3.06083879e-04]\n",
      " [-1.38585980e-04  1.98296341e-03 -5.37110609e-04 ... -1.52525119e-03\n",
      "  -8.35380575e-04  2.78159539e-04]\n",
      " [-1.05941799e-04  2.01873691e-03 -4.30637767e-04 ... -1.59339060e-03\n",
      "  -7.58526905e-04  2.56383588e-04]\n",
      " ...\n",
      " [-9.60048637e-05  1.99999567e-03 -4.19092947e-04 ... -1.52455771e-03\n",
      "  -7.63957214e-04  3.07246839e-04]\n",
      " [-1.17536620e-04  2.04112031e-03 -4.98300244e-04 ... -1.62801030e-03\n",
      "  -7.58779061e-04  2.16820816e-04]\n",
      " [-1.03645223e-04  1.97955454e-03 -4.36787988e-04 ... -1.48611027e-03\n",
      "  -7.90578546e-04  3.27935209e-04]]\n"
     ]
    }
   ],
   "source": [
    "yhat = latent_model.predict(padded_array)\n",
    "print(yhat.shape)\n",
    "print(yhat)"
   ]
  },
  {
   "cell_type": "code",
   "execution_count": 52,
   "metadata": {},
   "outputs": [
    {
     "data": {
      "text/plain": [
       "array([-8.2630126e-05,  1.9979086e-03, -4.1578792e-04, -3.8343939e-04,\n",
       "        7.7886792e-04,  1.0148585e-03, -4.0159855e-04,  6.1453332e-04,\n",
       "        3.9084116e-04, -1.3173305e-03,  3.7004720e-04,  6.4609099e-05,\n",
       "        7.9759670e-04, -1.4740201e-03, -7.4849121e-04,  3.3833893e-04],\n",
       "      dtype=float32)"
      ]
     },
     "execution_count": 52,
     "metadata": {},
     "output_type": "execute_result"
    }
   ],
   "source": [
    "yhat[98]"
   ]
  },
  {
   "cell_type": "code",
   "execution_count": 74,
   "metadata": {},
   "outputs": [],
   "source": [
    "import hdbscan\n",
    "clusterer = hdbscan.HDBSCAN(min_cluster_size=2)"
   ]
  },
  {
   "cell_type": "code",
   "execution_count": 75,
   "metadata": {},
   "outputs": [],
   "source": [
    "cluster_labels = clusterer.fit_predict(yhat)"
   ]
  },
  {
   "cell_type": "code",
   "execution_count": 76,
   "metadata": {},
   "outputs": [
    {
     "data": {
      "text/plain": [
       "array([ 94,  -1, 209, ..., 171,  -1, 130], dtype=int64)"
      ]
     },
     "execution_count": 76,
     "metadata": {},
     "output_type": "execute_result"
    }
   ],
   "source": [
    "cluster_labels"
   ]
  },
  {
   "cell_type": "code",
   "execution_count": 87,
   "metadata": {},
   "outputs": [
    {
     "data": {
      "text/plain": [
       "{-1: [1, 3, 7, 8, 9, 10, 11, 15, 19, 20, 23, 25, 26, 27, 28, 29, 31, 32, 33, 34, 36, 37, 38, 39, 41, 42, 44, 46, 47, 55, 56, 62, 63, 67, 68, 72, 76, 79, 80, 86, 88, 89, 90, 92, 93, 94, 95, 98, 102, 104, 106, 108, 112, 115, 118, 122, 123, 127, 132, 133, 136, 137, 138, 141, 142, 145, 146, 148, 149, 151, 153, 155, 156, 158, 159, 160, 166, 167, 170, 171, 183, 195, 196, 198, 204, 206, 208, 214, 215, 217, 220, 221, 226, 229, 231, 233, 234, 239, 243, 247, ...], 0: [1581, 2529, 2545], 1: [259, 561, 1425, 1656], 2: [99, 751, 1906], 3: [516, 591, 596], 4: [526, 1129], 5: [283, 1148, 1478, 1867], 6: [17, 427, 617, 986, 1727, 2526], 7: [499, 575, 2400], 8: [203, 2075], 9: [710, 1415, 1533, 2220], 10: [271, 570, 744, 912, 1493, 1519, 1914], 11: [416, 539, 841], 12: [258, 301, 696, 824, 1254, 1405, 1501, 1765], 13: [408, 420, 1677, 2376], 14: [550, 769, 2105], 15: [1339, 1545, 1674], 16: [225, 1294, 1891, 2228], 17: [1142, 1466], 18: [30, 147, 400, 402, 530, 640, 1052, 1158, 1214, 1362, 1593, 1681, 2416], 19: [850, 1464, 1688, 1693, 1805, 2265, 2494, 2563], 20: [96, 449, 808, 1173, 1220, 2305, 2357, 2363], 21: [495, 798, 2197], 22: [52, 811, 1880, 2136, 2148], 23: [260, 485, 2503], 24: [467, 2000, 2245], 25: [186, 382, 574, 682, 905, 987, 1080, 1205, 1235, 1484, 1486, 1549, 1608, 1969, 2041, 2141, 2179, 2486], 26: [71, 207, 2153], 27: [1312, 1834, 1901], 28: [59, 1320], 29: [134, 437, 438, 551, 578, 926, 1178, 1224, 1293, 1643, 1753, 1817, 1845, 2151, 2353, 2394], 30: [1013, 1227, 2205], 31: [894, 1263, 1386, 1857, 2215, 2396], 32: [1836, 2505], 33: [1504, 1752], 34: [197, 703, 720, 934, 993, 1389, 1589, 1713, 2218], 35: [982, 1022, 2062, 2064, 2448], 36: [1167, 1557, 2449], 37: [349, 1743, 2384], 38: [545, 756, 1630, 2117], 39: [40, 636, 712, 761, 952, 1005, 1207, 1547, 1685, 1885, 2312], 40: [270, 305, 1149, 1603, 1718], 41: [580, 909, 1240, 1488], 42: [2005, 2293], 43: [553, 1086, 2115, 2366], 44: [66, 1066, 1078, 2372], 45: [1255, 1873, 2373], 46: [386, 2026, 2500], 47: [43, 371, 691, 931, 1410, 1847, 1856, 2334], 48: [969, 1122, 1191, 1659, 1910, 2204, 2540], 49: [535, 766, 768, 771, 1607, 2095, 2263], 50: [201, 2257], 51: [366, 1561, 1568], 52: [978, 1414, 1469, 1755, 2308, 2516], 53: [182, 216, 607, 1292, 1735, 1778, 2289, 2559], 54: [116, 276, 2252], 55: [667, 1127, 1829], 56: [347, 476, 1039, 1208, 1739, 1799, 2052, 2413], 57: [947, 2354], 58: [355, 1027, 1679, 2085], 59: [1888, 2039, 2475], 60: [209, 597, 1140, 1448], 61: [144, 252, 284, 843, 1595], 62: [484, 508, 1222, 1941], 63: [342, 592, 656, 701, 785, 1204, 1285, 1406, 1652, 1884, 2173, 2198, 2200, 2338, 2450, 2491, 2509], 64: [590, 893], 65: [81, 425, 629, 855, 879, 1259, 1598, 1646, 2380], 66: [891, 2424], 67: [948, 1433, 2125, 2170], 68: [1317, 2072], 69: [24, 293, 2326], 70: [128, 677, 907, 1997, 2242], 71: [140, 1012, 1520], 72: [1562, 2362, 2525], 73: [871, 917, 1134, 1882, 1967, 2461], 74: [273, 419, 474, 1439, 1496, 1660, 2070], 75: [787, 1176, 1601, 1623], 76: [399, 835, 1009, 1323, 1445, 2261], 77: [54, 373, 520, 1553, 1736], 78: [1189, 1512], 79: [1056, 1342, 1560], 80: [320, 577, 1626, 1653, 1782], 81: [1136, 1959], 82: [863, 1356, 1816], 83: [299, 754], 84: [683, 1475], 85: [135, 163, 1164, 1297, 1871, 1887, 2011], 86: [50, 409, 509, 2201], 87: [1747, 2514], 88: [451, 1931, 2132], 89: [14, 446, 473, 538, 868, 1825, 1899, 1909, 2106, 2196, 2401], 90: [143, 501, 1017, 2017, 2168], 91: [469, 833, 1182, 1380, 2292], 92: [48, 187, 232, 334, 431, 595, 621, 764, 829, 859, 956, 1613, 1676, 2260, 2418, 2472], 93: [101, 121, 150, 172, 479, 1095, 1187, 2573], 94: [0, 279, 631], 95: [381, 1835, 1979, 2050, 2408], 96: [481, 510, 2520], 97: [1641, 1846, 2130], 98: [662, 668, 1449, 2059], ...}"
      ]
     },
     "execution_count": 87,
     "metadata": {},
     "output_type": "execute_result"
    }
   ],
   "source": [
    "df = pd.DataFrame({'cluster_labels':cluster_labels})\n",
    "\n",
    "clusters = df.groupby(by=df.cluster_labels)\n",
    "clusters.groups"
   ]
  },
  {
   "cell_type": "code",
   "execution_count": 94,
   "metadata": {},
   "outputs": [],
   "source": [
    "cluster_list = list(clusters.get_group(-1).index)"
   ]
  },
  {
   "cell_type": "code",
   "execution_count": 64,
   "metadata": {},
   "outputs": [
    {
     "data": {
      "text/html": [
       "<div>\n",
       "<style scoped>\n",
       "    .dataframe tbody tr th:only-of-type {\n",
       "        vertical-align: middle;\n",
       "    }\n",
       "\n",
       "    .dataframe tbody tr th {\n",
       "        vertical-align: top;\n",
       "    }\n",
       "\n",
       "    .dataframe thead th {\n",
       "        text-align: right;\n",
       "    }\n",
       "</style>\n",
       "<table border=\"1\" class=\"dataframe\">\n",
       "  <thead>\n",
       "    <tr style=\"text-align: right;\">\n",
       "      <th></th>\n",
       "      <th>author_id</th>\n",
       "      <th>author_name</th>\n",
       "      <th>author_username</th>\n",
       "    </tr>\n",
       "  </thead>\n",
       "  <tbody>\n",
       "    <tr>\n",
       "      <th>0</th>\n",
       "      <td>1000130222338002944</td>\n",
       "      <td>Graça Porte</td>\n",
       "      <td>GraaPortela1</td>\n",
       "    </tr>\n",
       "    <tr>\n",
       "      <th>1</th>\n",
       "      <td>10002992</td>\n",
       "      <td>Zissazin</td>\n",
       "      <td>taissazin</td>\n",
       "    </tr>\n",
       "    <tr>\n",
       "      <th>2</th>\n",
       "      <td>1000378112612470785</td>\n",
       "      <td>Robferreira🇧🇷</td>\n",
       "      <td>RobsonF91678435</td>\n",
       "    </tr>\n",
       "    <tr>\n",
       "      <th>3</th>\n",
       "      <td>1000457428075466754</td>\n",
       "      <td>Linda</td>\n",
       "      <td>elinalv12774504</td>\n",
       "    </tr>\n",
       "    <tr>\n",
       "      <th>4</th>\n",
       "      <td>1000809759187095558</td>\n",
       "      <td>Bruno Lima 97</td>\n",
       "      <td>BrunoLima972</td>\n",
       "    </tr>\n",
       "    <tr>\n",
       "      <th>...</th>\n",
       "      <td>...</td>\n",
       "      <td>...</td>\n",
       "      <td>...</td>\n",
       "    </tr>\n",
       "    <tr>\n",
       "      <th>2573</th>\n",
       "      <td>991789461485875200</td>\n",
       "      <td>M Lu! 🦄🏳️‍🌈🌈</td>\n",
       "      <td>MLPN1976</td>\n",
       "    </tr>\n",
       "    <tr>\n",
       "      <th>2574</th>\n",
       "      <td>993156040253468674</td>\n",
       "      <td>@NeemiasBertyno 🇧🇷🇧🇷🇧🇷🇧🇷</td>\n",
       "      <td>BertynosTata</td>\n",
       "    </tr>\n",
       "    <tr>\n",
       "      <th>2575</th>\n",
       "      <td>993999368511475718</td>\n",
       "      <td>joão Antonio</td>\n",
       "      <td>Joao_Aoficial</td>\n",
       "    </tr>\n",
       "    <tr>\n",
       "      <th>2576</th>\n",
       "      <td>994628533787025408</td>\n",
       "      <td>Jane Peixoto</td>\n",
       "      <td>janepeixoto787</td>\n",
       "    </tr>\n",
       "    <tr>\n",
       "      <th>2577</th>\n",
       "      <td>99773647</td>\n",
       "      <td>#Vemvacina 🇧🇷🌵</td>\n",
       "      <td>diascynthia</td>\n",
       "    </tr>\n",
       "  </tbody>\n",
       "</table>\n",
       "<p>2578 rows × 3 columns</p>\n",
       "</div>"
      ],
      "text/plain": [
       "                author_id               author_name  author_username\n",
       "0     1000130222338002944               Graça Porte     GraaPortela1\n",
       "1                10002992                  Zissazin        taissazin\n",
       "2     1000378112612470785             Robferreira🇧🇷  RobsonF91678435\n",
       "3     1000457428075466754                     Linda  elinalv12774504\n",
       "4     1000809759187095558             Bruno Lima 97     BrunoLima972\n",
       "...                   ...                       ...              ...\n",
       "2573   991789461485875200              M Lu! 🦄🏳️‍🌈🌈         MLPN1976\n",
       "2574   993156040253468674  @NeemiasBertyno 🇧🇷🇧🇷🇧🇷🇧🇷     BertynosTata\n",
       "2575   993999368511475718              joão Antonio    Joao_Aoficial\n",
       "2576   994628533787025408              Jane Peixoto   janepeixoto787\n",
       "2577             99773647            #Vemvacina 🇧🇷🌵      diascynthia\n",
       "\n",
       "[2578 rows x 3 columns]"
      ]
     },
     "execution_count": 64,
     "metadata": {},
     "output_type": "execute_result"
    }
   ],
   "source": [
    "author_df = pd.DataFrame(author_id,columns=[\"author_id\"])\n",
    "retweet_df = pd.read_csv(\"authors.csv\",index_col=0, dtype={'author_id':str})\n",
    "author_df = author_df.merge(retweet_df,how='left')\n",
    "author_df"
   ]
  },
  {
   "cell_type": "code",
   "execution_count": 93,
   "metadata": {},
   "outputs": [],
   "source": [
    "# cluster_list = [48, 187, 232, 334, 431, 595, 621, 764, 829, 859, 956, 1613, 1676, 2260, 2418, 2472]"
   ]
  },
  {
   "cell_type": "code",
   "execution_count": 95,
   "metadata": {},
   "outputs": [
    {
     "data": {
      "text/html": [
       "<div>\n",
       "<style scoped>\n",
       "    .dataframe tbody tr th:only-of-type {\n",
       "        vertical-align: middle;\n",
       "    }\n",
       "\n",
       "    .dataframe tbody tr th {\n",
       "        vertical-align: top;\n",
       "    }\n",
       "\n",
       "    .dataframe thead th {\n",
       "        text-align: right;\n",
       "    }\n",
       "</style>\n",
       "<table border=\"1\" class=\"dataframe\">\n",
       "  <thead>\n",
       "    <tr style=\"text-align: right;\">\n",
       "      <th></th>\n",
       "      <th>author_id</th>\n",
       "      <th>author_name</th>\n",
       "      <th>author_username</th>\n",
       "    </tr>\n",
       "  </thead>\n",
       "  <tbody>\n",
       "    <tr>\n",
       "      <th>1</th>\n",
       "      <td>10002992</td>\n",
       "      <td>Zissazin</td>\n",
       "      <td>taissazin</td>\n",
       "    </tr>\n",
       "    <tr>\n",
       "      <th>3</th>\n",
       "      <td>1000457428075466754</td>\n",
       "      <td>Linda</td>\n",
       "      <td>elinalv12774504</td>\n",
       "    </tr>\n",
       "    <tr>\n",
       "      <th>7</th>\n",
       "      <td>1002737807331381248</td>\n",
       "      <td>Cecílio</td>\n",
       "      <td>Ceclio16</td>\n",
       "    </tr>\n",
       "    <tr>\n",
       "      <th>8</th>\n",
       "      <td>1003801362826776576</td>\n",
       "      <td>PL 490 NÃO</td>\n",
       "      <td>Nitrogl41152579</td>\n",
       "    </tr>\n",
       "    <tr>\n",
       "      <th>9</th>\n",
       "      <td>100615509</td>\n",
       "      <td>@SOS_RIO</td>\n",
       "      <td>SOS_RIO</td>\n",
       "    </tr>\n",
       "    <tr>\n",
       "      <th>...</th>\n",
       "      <td>...</td>\n",
       "      <td>...</td>\n",
       "      <td>...</td>\n",
       "    </tr>\n",
       "    <tr>\n",
       "      <th>2566</th>\n",
       "      <td>984106671558537217</td>\n",
       "      <td>Sônia Virgínia🇧🇷⚖</td>\n",
       "      <td>SoniaVirginia14</td>\n",
       "    </tr>\n",
       "    <tr>\n",
       "      <th>2568</th>\n",
       "      <td>988262919950536704</td>\n",
       "      <td>Zé Dias Estrela Da Noite⭐ 🌍🌃⭐⭐🌃🍂</td>\n",
       "      <td>EstrelaDANoite8</td>\n",
       "    </tr>\n",
       "    <tr>\n",
       "      <th>2569</th>\n",
       "      <td>989911675959742464</td>\n",
       "      <td>Luiza🇸🇾🇧🇷</td>\n",
       "      <td>Luizapimenta12</td>\n",
       "    </tr>\n",
       "    <tr>\n",
       "      <th>2571</th>\n",
       "      <td>991369128081534976</td>\n",
       "      <td>mauriciotio389@gmail.com</td>\n",
       "      <td>ma212424</td>\n",
       "    </tr>\n",
       "    <tr>\n",
       "      <th>2575</th>\n",
       "      <td>993999368511475718</td>\n",
       "      <td>joão Antonio</td>\n",
       "      <td>Joao_Aoficial</td>\n",
       "    </tr>\n",
       "  </tbody>\n",
       "</table>\n",
       "<p>1040 rows × 3 columns</p>\n",
       "</div>"
      ],
      "text/plain": [
       "                author_id                       author_name  author_username\n",
       "1                10002992                          Zissazin        taissazin\n",
       "3     1000457428075466754                             Linda  elinalv12774504\n",
       "7     1002737807331381248                           Cecílio         Ceclio16\n",
       "8     1003801362826776576                        PL 490 NÃO  Nitrogl41152579\n",
       "9               100615509                          @SOS_RIO          SOS_RIO\n",
       "...                   ...                               ...              ...\n",
       "2566   984106671558537217                 Sônia Virgínia🇧🇷⚖  SoniaVirginia14\n",
       "2568   988262919950536704  Zé Dias Estrela Da Noite⭐ 🌍🌃⭐⭐🌃🍂  EstrelaDANoite8\n",
       "2569   989911675959742464                         Luiza🇸🇾🇧🇷   Luizapimenta12\n",
       "2571   991369128081534976          mauriciotio389@gmail.com         ma212424\n",
       "2575   993999368511475718                      joão Antonio    Joao_Aoficial\n",
       "\n",
       "[1040 rows x 3 columns]"
      ]
     },
     "execution_count": 95,
     "metadata": {},
     "output_type": "execute_result"
    }
   ],
   "source": [
    "author_df[author_df.index.isin(cluster_list)]"
   ]
  }
 ],
 "metadata": {
  "interpreter": {
   "hash": "d623e6d50a8c5431be72346c65c84a9ac23a28224b8a2c4d8f5b8ea72a60dd02"
  },
  "kernelspec": {
   "display_name": "Python 3.9.7 64-bit ('venv': venv)",
   "language": "python",
   "name": "python3"
  },
  "language_info": {
   "codemirror_mode": {
    "name": "ipython",
    "version": 3
   },
   "file_extension": ".py",
   "mimetype": "text/x-python",
   "name": "python",
   "nbconvert_exporter": "python",
   "pygments_lexer": "ipython3",
   "version": "3.9.7"
  },
  "orig_nbformat": 4
 },
 "nbformat": 4,
 "nbformat_minor": 2
}
