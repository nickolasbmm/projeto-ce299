{
 "cells": [
  {
   "cell_type": "code",
   "execution_count": 1,
   "metadata": {},
   "outputs": [],
   "source": [
    "import tensorflow as tf\n",
    "\n",
    "from tensorflow.keras import layers, losses\n",
    "from tensorflow.keras import backend as K\n",
    "from tensorflow.keras.layers import Input,LSTM,RepeatVector,Dense,Lambda,TimeDistributed,Masking\n",
    "from tensorflow.keras.models import Model,Sequential\n",
    "from tensorflow.keras.utils import normalize\n",
    "\n",
    "import numpy as np\n",
    "import pandas as pd\n",
    "import csv\n",
    "from sklearn.preprocessing import MaxAbsScaler,MinMaxScaler,StandardScaler\n",
    "import glob,os\n",
    "from pathlib import Path\n",
    "from scipy import stats"
   ]
  },
  {
   "cell_type": "code",
   "execution_count": 2,
   "metadata": {},
   "outputs": [],
   "source": [
    "# with open(\"out.csv\",'r') as dest_f:\n",
    "#     data_iter = csv.reader(dest_f,delimiter = \",\")\n",
    "#     data = [np.array(data,dtype=int) for data in data_iter]\n",
    "#     # data = [x.reshape(x.shape[0],1,1) for x in data]\n",
    "# data_array = np.asarray(data, dtype = object)\n",
    "# data_array\n",
    "# padded_array2 = tf.keras.preprocessing.sequence.pad_sequences(data_array2,padding=\"post\")"
   ]
  },
  {
   "cell_type": "code",
   "execution_count": 3,
   "metadata": {},
   "outputs": [],
   "source": [
    "data_array = []\n",
    "author_id = []\n",
    "all_files = glob.glob(os.path.join(\"time_series/\", \"*.csv\"))   \n",
    "f_array = [] \n",
    "for f in all_files:\n",
    "    # data_iter = csv.reader(f,delimiter = \"\\n\")\n",
    "    f_array = pd.read_csv(f,dtype=int,header=None).transpose().squeeze().to_numpy()\n",
    "    data_array.append(f_array)\n",
    "    author_id.append(Path(f).stem)\n",
    "\n",
    "data_array = np.array(data_array,dtype = object)"
   ]
  },
  {
   "cell_type": "code",
   "execution_count": 4,
   "metadata": {},
   "outputs": [
    {
     "data": {
      "text/plain": [
       "array([array([  -5729,   10043,     -30,    2700,    -235,   13248,    -898,\n",
       "                 2922,     -34,   14660,  -63088,   29976,    -293,   30010,\n",
       "                  -89,   30083,    -215,   63106,    -223,   10846,    -501,\n",
       "                70183,   -3053,   47669, -101166,  133232,  -73486,  156221,\n",
       "               -18582,  263618,  -85544,  261401,     -72,  295232, -137120,\n",
       "               228721,  -30292,  465998,   -2878,  499945,   -3457,  478284,\n",
       "              -167677,  680937,    -942,  690091,    -653,  688904,   -1081,\n",
       "               648146,  -77597,  773549,     -13,  773550,    -111,  764613,\n",
       "                 -128,  763320,    -749,  698794,   -9976,  776413,     -64,\n",
       "               763443,  -54528,  786600,  -27242,  822113,  -86134,  939816,\n",
       "                -1142,  872128,    -282,  855002,  -80088, 1019700,   -6988,\n",
       "              1028810,    -129,  997937,   -1729,  993226,    -596, 1026528,\n",
       "                 -162, 1026062,    -405, 1003858,  -83755, 1118102,    -250,\n",
       "              1119600,   -1016, 1033877,  -42016, 1100457,    -153, 1116870,\n",
       "               -42479, 1212546,    -321, 1188392,    -162, 1186555,    -116,\n",
       "              1176639,    -938, 1116033,    -146, 1171595,  -65120, 1255554,\n",
       "               -18267, 1245635,   -2786, 1253621,  -82558, 1344384,    -191,\n",
       "              1366845,   -1916, 1343521,  -76786, 1426034,  -13129, 1466160,\n",
       "                -1110, 1454302,    -160, 1477186,  -58030, 1510339,     -38,\n",
       "              1511087,  -13978, 1546818,    -683, 1546796,    -147, 1550258,\n",
       "                -1187, 1516630,  -65133, 1555090,   -5587, 1621860,  -25450,\n",
       "              1645851,  -66156, 1695860,  -84211, 1780441,  -13051, 1809056,\n",
       "                  -10, 1807874,    -332, 1810800,    -316, 1808544,   -3894,\n",
       "              1771224,   -7093, 1804149, -232448, 2027545, -180064, 2234400,\n",
       "              -254350, 2489720,    -397, 2490081,  -20714, 2470800,    -511,\n",
       "              2455035,   -1762, 2456051,  -68217, 2545234,  -88451])        ,\n",
       "       array([  -66825,    40625,     -799,     7155,     -529,    55640,\n",
       "                  -406,    56419,      -24,    46800,     -340,    57027,\n",
       "                  -123,    51822,   -65237,    99356,   -25526,   157930,\n",
       "                  -241,   152011,     -569,   136691,      -16,   159622,\n",
       "                 -1675, 10147299,     -914,   163106,    -4993,   166921,\n",
       "                  -186,   167836,   -17513,   172147,   -60370,   219600,\n",
       "                -66781,   295201,    -3832,   313332,    -5077,   306100,\n",
       "                -19002,   295502,   -15906,   356478,   -30599,   386100,\n",
       "               -213024,   577525,   -40992,   641133,   -46671,   687600,\n",
       "               -137013,   821060,    -1412,   826200,      -54,   824732,\n",
       "                -98906,   841627,   -71887,   986972,   -24474,  1014853,\n",
       "                   -23,  1015483,    -7908,  1025520,    -3539,  1031400,\n",
       "                -16516,  1048265,   -34882,  1010961,   -45923,  1127820,\n",
       "                  -323,  1128063,    -4938,  1085228,     -330,  1077547,\n",
       "                -35248,  1167600,     -554,  1168375,      -34,  1168377,\n",
       "                 -8627,  1180019,   -85122,  1261828,   -73621,  1328469,\n",
       "               -224138,  1562302,       -6,  1562228,      -51,  1557297,\n",
       "                 -1251,  1548989,     -999,  1559906,     -143,  1563724,\n",
       "                -13876,  1566198,   -63830,  1629869,   -17116,  1643253,\n",
       "                -39927,  1686206,     -793,  1688349,    -7201,  1691683,\n",
       "                -66255,  1729189,   -10958,  1779950,   -47404,  1796402,\n",
       "               -546053,  2372180,    -2717,  2374078,      -85,  2378460,\n",
       "               -113345,  2467301,  -141882,  2548808,       -2,  2548502,\n",
       "                 -6407,  2640600,   -27063])                             ,\n",
       "       array([ -61303,   52578,    -472,   14398,    -913,   57026,    -426,\n",
       "                61236, -117163,  156221,  -75555,  228721,    -164,  246928,\n",
       "                -1274,  221348,    -175,  228253,    -227,  218760,  -60879,\n",
       "               215244,  -87497,  400322,   -1256,  400178,    -426,  404723,\n",
       "               -79053,  425597,    -572,  420441,     -36,  442177,    -378,\n",
       "               413569, -261273,  680937, -343470, 1079062,     -66, 1023247,\n",
       "               -32387, 1123201,  -98749, 1021808,  -79863, 1258877, -301318,\n",
       "              1598423,   -7532, 1608746,   -2828, 1614514,    -488, 1596513,\n",
       "                 -208, 1614601, -106316, 1701873,     -65, 1687389,     -26,\n",
       "              1718027,    -305, 1716287,  -87383, 1774801,   -1671, 1782407,\n",
       "                 -344, 1807874,    -141, 1779857, -150291, 1957758, -142632,\n",
       "              2041290,     -67, 2077831,  -11953, 2116832,  -84207, 2170835,\n",
       "                 -436, 2201433,     -47, 2201483,  -26545, 2185416,    -795,\n",
       "              2228628,  -84805, 2215285,  -39853, 2329676,  -19436, 2367800,\n",
       "                 -814, 2329883,  -44182, 2399204,  -35979, 2423152,   -1046,\n",
       "              2367707,  -12882, 2395545,    -896, 2462432,   -2137, 2406489,\n",
       "                -1970, 2432408,  -21157, 2489720,  -98057, 2567255,   -5249,\n",
       "              2567077,  -73378])                                            ,\n",
       "       ...,\n",
       "       array([ -37978,   29976,   -1810,   13248,  -17794,   47888,   -1558,\n",
       "                51542,    -172,   58075,  -14282,   70183,  -65549,  127800,\n",
       "                -8670,  140548,   -8931,  156221,  -17495,  128919,   -2230,\n",
       "               157293,    -222,  163525,  -39265,  185456,  -30012,  221348,\n",
       "               -15072,  246928,  -30531,  261401,  -29415,  307294,  -79337,\n",
       "               400178,  -16311,  404723,    -381,  413569,    -969,  416225,\n",
       "               -15331,  425597,  -84574,  499945,  -61321,  577550,  -96980,\n",
       "               661090,  -53303,  700833,   -1167,  656897,  -10063,  738873,\n",
       "                -7310,  744319,  -15222,  754910,  -15527,  763320,  -37454,\n",
       "               776413,  -23420,  838545,    -193,  763443,  -56603,  869056,\n",
       "               -25106,  920856,  -72986,  993226,   -3748,  994455,    -302,\n",
       "               997203,   -9502,  921964,  -12543, 1009126,  -15262, 1026062,\n",
       "               -49439, 1016386,  -36162, 1118102,  -32065, 1116033,  -37313,\n",
       "              1186555,     -56, 1188841,      -3, 1188392,  -10066, 1173300,\n",
       "                -6263, 1176639,   -7169, 1212546,    -495, 1178220,  -69148,\n",
       "              1258877,  -51332, 1259893,   -9872, 1344384,  -21798, 1336889,\n",
       "               -12234, 1375595,  -30993, 1363546,  -11735, 1422016, -134558,\n",
       "              1546796,  -42939, 1598423,  -11977, 1540178,  -91237, 1697443,\n",
       "                -2186, 1702037,   -4293, 1687389,  -19536, 1726411,    -172,\n",
       "              1728474,   -2094, 1730700,     -39, 1729642,  -82533, 1811433,\n",
       "                 -151, 1807874,   -6022, 1774801,  -27184, 1829059,  -18735,\n",
       "              1858076,   -7137, 1868627,  -11815, 1867559,  -61874, 1936294,\n",
       "               -88431, 2026809,    -385, 2027545,   -7411, 2041290,   -1359,\n",
       "              1969534,  -13283, 2038605,  -81589, 2134373,  -12816, 2149334,\n",
       "               -10427, 2156882,  -42425, 2198066,  -40641, 2228628,  -63062,\n",
       "              2301013,  -24866, 2257231,    -169, 2329676,  -41239, 2367800,\n",
       "               -29037, 2401862,  -16647, 2420355,  -40185, 2456051,  -35137,\n",
       "              2489720,  -81749, 2555171,  -93596])                          ,\n",
       "       array([  -6164,    2544,    -129,    4052,  -52187,   56110,    -152,\n",
       "                52945,     -46,   55216,  -88762,  133443,  -24931,  152469,\n",
       "               -37364,  142379,  -49086,  248035,  -93145,  351466,  -47487,\n",
       "               392078,    -198,  392137,     -15,  395108,  -70166,  468997,\n",
       "               -26291,  409107,    -562,  491702,  -66201,  562631,  -41068,\n",
       "               596672,  -94356,  695049, -132296,  828665,     -32,  824732,\n",
       "              -115056,  941587,  -48936,  990223,    -209,  987100,  -42258,\n",
       "              1014134,     -45, 1020678,   -3719, 1029816,  -46123, 1023499,\n",
       "                  -99, 1011728,  -12657, 1017022,  -10472, 1085228,  -58523,\n",
       "              1168377,  -17530, 1173367,    -375, 1182416,  -18812, 1197429,\n",
       "                 -378, 1187103,   -9261, 1179311, -210648, 1423217,    -232,\n",
       "              1421439,    -277, 1374407,  -52158, 1477065,  -64516, 1538959,\n",
       "               -54618, 1589362,    -128, 1525065,     -12, 1525448,    -713,\n",
       "              1596417,  -20249, 1614201,     -17, 1615100,  -26930, 1638435,\n",
       "                  -80, 1645140,    -513, 1608942,  -41313, 1686206,    -720,\n",
       "              1687528,  -16682, 1700198,  -24393, 1726400,   -3202, 1731868,\n",
       "               -34897, 1764516,   -3665, 1768355,   -1228, 1769876,    -867,\n",
       "              1772867,  -27956, 1787887,  -64080, 1858675,  -36715, 1893698,\n",
       "               -93802, 1971697,  -40870, 1966627,    -588, 1976188,  -34128,\n",
       "              2066100,  -92898, 2115609,  -34611, 2198785, -101821, 2252527,\n",
       "               -73101, 2372180,   -3102, 2374188,  -43593, 2415621,  -88846,\n",
       "              2507404,  -46376, 2531439,    -190, 2554089,    -666, 2515305,\n",
       "                 -113, 2492937,  -96099, 2651218,  -18293])                 ,\n",
       "       array([  -6854,   21276,  -53478,   59837,    -991,   60502,     -29,\n",
       "                60488,  -28207,   81460,  -34159,  101478,  -14960,  131810,\n",
       "                  -56,  136342,   -1123,  134295,  -21099,  160447, -225481,\n",
       "               383666,    -407,  342034,   -8795,  393120,    -463,  392078,\n",
       "                -4484,  394737,    -671,  385402,   -9021,  407022,    -954,\n",
       "               409517,   -1310,  151417,     -15,  151986,      -7,  153195,\n",
       "               -17563,  396696,  -12578,  404747,  -34627,  441277,  -51363,\n",
       "               505146,  -66175,  584044,  -83874,  644534,     -59,  582930,\n",
       "               -12636,  664692,     -52,  686463,  -47522,  738759,    -434,\n",
       "               739308,  -41307,  778033,   -5145,  765489,  -31481,  771856,\n",
       "               -14658,  763378,  -32119,  828665,  -38567,  832578,    -302,\n",
       "               869170,   -1253,  889629,  -87004,  955279,   -2429,  992700,\n",
       "                -5900,  998553,   -6841, 1001309,  -17890, 1011914,    -455,\n",
       "              1002757,   -1784, 1026353,     -16, 1007618,    -236, 1008613,\n",
       "                -5035, 1010212,      -7, 1010514,    -256,  996472,    -465,\n",
       "              1014134,  -54422, 1080600,    -464, 1038857,  -12716, 1099338,\n",
       "               -23602, 1123435,  -34923, 1138568,  -11648, 1166230,    -776,\n",
       "              1167300,     -37, 1166019,  -15807, 1173367,   -5379, 1188773,\n",
       "                -5182, 1194091,   -8998, 1186269,  -41737, 1209157,  -30852,\n",
       "              1261828,   -8228, 1284633,  -47463, 1279147,  -18792, 1343558,\n",
       "                -4840, 1338633,   -2062, 1359137,   -2951, 1363315,  -10088,\n",
       "              1373441,  -88877, 1431784,   -7795, 1431104,   -3500, 1460314,\n",
       "               -82271, 1543951,    -477, 1536486,   -4876, 1561268,  -31495,\n",
       "              1564852,   -2070, 1591806,    -253, 1545713,   -1243, 1595370,\n",
       "               -41798, 1637432,  -46041, 1682144,  -42983, 1726400,     -74,\n",
       "              1726093,  -73583, 1732285,  -56317, 1819055, -180043, 1970542,\n",
       "               -73575, 2046082,      -4, 2046085,      -3, 2046088,      -4,\n",
       "              2046090,  -35231, 2131847,    -229, 2125377,  -56487, 2198785,\n",
       "              -173091, 2330633,      -6, 2337896,      -9, 2350847, -176184,\n",
       "              2503588,     -50, 2531439,     -88, 2497554, -118751])        ],\n",
       "      dtype=object)"
      ]
     },
     "execution_count": 4,
     "metadata": {},
     "output_type": "execute_result"
    }
   ],
   "source": [
    "data_array"
   ]
  },
  {
   "cell_type": "code",
   "execution_count": 5,
   "metadata": {},
   "outputs": [
    {
     "data": {
      "text/plain": [
       "array([[ -5729,  10043,    -30, ...,      0,      0,      0],\n",
       "       [-66825,  40625,   -799, ...,      0,      0,      0],\n",
       "       [-61303,  52578,   -472, ...,      0,      0,      0],\n",
       "       ...,\n",
       "       [-37978,  29976,  -1810, ...,      0,      0,      0],\n",
       "       [ -6164,   2544,   -129, ...,      0,      0,      0],\n",
       "       [ -6854,  21276, -53478, ...,      0,      0,      0]])"
      ]
     },
     "execution_count": 5,
     "metadata": {},
     "output_type": "execute_result"
    }
   ],
   "source": [
    "padded_array = tf.keras.preprocessing.sequence.pad_sequences(data_array,padding=\"post\")\n",
    "# padded_array = np.transpose(padded_array)\n",
    "padded_array"
   ]
  },
  {
   "cell_type": "code",
   "execution_count": 6,
   "metadata": {},
   "outputs": [
    {
     "data": {
      "text/plain": [
       "(2577, 2754, 1)"
      ]
     },
     "execution_count": 6,
     "metadata": {},
     "output_type": "execute_result"
    }
   ],
   "source": [
    "# reshape input into [samples, timesteps, features]\n",
    "padded_array = padded_array.reshape((padded_array.shape[0],padded_array.shape[1],1))\n",
    "padded_array.shape"
   ]
  },
  {
   "cell_type": "code",
   "execution_count": 7,
   "metadata": {},
   "outputs": [
    {
     "data": {
      "text/plain": [
       "array([[[ -5729],\n",
       "        [ 10043],\n",
       "        [   -30],\n",
       "        ...,\n",
       "        [     0],\n",
       "        [     0],\n",
       "        [     0]],\n",
       "\n",
       "       [[-66825],\n",
       "        [ 40625],\n",
       "        [  -799],\n",
       "        ...,\n",
       "        [     0],\n",
       "        [     0],\n",
       "        [     0]],\n",
       "\n",
       "       [[-61303],\n",
       "        [ 52578],\n",
       "        [  -472],\n",
       "        ...,\n",
       "        [     0],\n",
       "        [     0],\n",
       "        [     0]],\n",
       "\n",
       "       ...,\n",
       "\n",
       "       [[-37978],\n",
       "        [ 29976],\n",
       "        [ -1810],\n",
       "        ...,\n",
       "        [     0],\n",
       "        [     0],\n",
       "        [     0]],\n",
       "\n",
       "       [[ -6164],\n",
       "        [  2544],\n",
       "        [  -129],\n",
       "        ...,\n",
       "        [     0],\n",
       "        [     0],\n",
       "        [     0]],\n",
       "\n",
       "       [[ -6854],\n",
       "        [ 21276],\n",
       "        [-53478],\n",
       "        ...,\n",
       "        [     0],\n",
       "        [     0],\n",
       "        [     0]]])"
      ]
     },
     "execution_count": 7,
     "metadata": {},
     "output_type": "execute_result"
    }
   ],
   "source": [
    "padded_array"
   ]
  },
  {
   "cell_type": "code",
   "execution_count": 8,
   "metadata": {},
   "outputs": [],
   "source": [
    "scaler = MinMaxScaler()\n",
    "padded_array = scaler.fit_transform(padded_array.reshape(-1, padded_array.shape[-1])).reshape(padded_array.shape)"
   ]
  },
  {
   "cell_type": "code",
   "execution_count": 9,
   "metadata": {},
   "outputs": [
    {
     "data": {
      "text/plain": [
       "0.03405458526639616"
      ]
     },
     "execution_count": 9,
     "metadata": {},
     "output_type": "execute_result"
    }
   ],
   "source": [
    "masked_value = scaler.transform([[0]])[0][0]\n",
    "# masked_value = 0\n",
    "masked_value"
   ]
  },
  {
   "cell_type": "code",
   "execution_count": 10,
   "metadata": {},
   "outputs": [],
   "source": [
    "# padded_array = np.where(padded_array==scaler.transform([[0]]), 0, padded_array)"
   ]
  },
  {
   "cell_type": "code",
   "execution_count": 11,
   "metadata": {},
   "outputs": [],
   "source": [
    "# padded_array"
   ]
  },
  {
   "cell_type": "code",
   "execution_count": 12,
   "metadata": {},
   "outputs": [],
   "source": [
    "timesteps = padded_array.shape[1]  # Length of your sequences\n",
    "features = padded_array.shape[2]\n",
    "inter_dim = 64\n",
    "latent_dim = 16\n",
    "\n",
    "model = Sequential()\n",
    "model.add(Masking(mask_value=masked_value, input_shape=(timesteps, features)))\n",
    "model.add(LSTM(inter_dim, activation='tanh',return_sequences=True))\n",
    "model.add(LSTM(latent_dim, activation='tanh',return_sequences=False))\n",
    "model.add(RepeatVector(timesteps))\n",
    "model.add(LSTM(latent_dim, activation='tanh', return_sequences=True))\n",
    "model.add(LSTM(inter_dim, activation='tanh', return_sequences=True))\n",
    "model.add(TimeDistributed(Dense(1,activation=\"tanh\")))\n",
    "\n",
    "# model.compile(optimizer='nadam', loss='mean_absolute_error',metrics=['accuracy'])\n",
    "model.compile(optimizer='adam', loss='mse',metrics=['accuracy'])\n",
    "# model.compile(optimizer='adam', loss=losses.categorical_crossentropy,metrics=['accuracy'])"
   ]
  },
  {
   "cell_type": "code",
   "execution_count": 13,
   "metadata": {},
   "outputs": [
    {
     "name": "stdout",
     "output_type": "stream",
     "text": [
      "Model: \"sequential\"\n",
      "_________________________________________________________________\n",
      " Layer (type)                Output Shape              Param #   \n",
      "=================================================================\n",
      " masking (Masking)           (None, 2754, 1)           0         \n",
      "                                                                 \n",
      " lstm (LSTM)                 (None, 2754, 64)          16896     \n",
      "                                                                 \n",
      " lstm_1 (LSTM)               (None, 16)                5184      \n",
      "                                                                 \n",
      " repeat_vector (RepeatVector  (None, 2754, 16)         0         \n",
      " )                                                               \n",
      "                                                                 \n",
      " lstm_2 (LSTM)               (None, 2754, 16)          2112      \n",
      "                                                                 \n",
      " lstm_3 (LSTM)               (None, 2754, 64)          20736     \n",
      "                                                                 \n",
      " time_distributed (TimeDistr  (None, 2754, 1)          65        \n",
      " ibuted)                                                         \n",
      "                                                                 \n",
      "=================================================================\n",
      "Total params: 44,993\n",
      "Trainable params: 44,993\n",
      "Non-trainable params: 0\n",
      "_________________________________________________________________\n"
     ]
    }
   ],
   "source": [
    "model.summary()"
   ]
  },
  {
   "cell_type": "code",
   "execution_count": 14,
   "metadata": {},
   "outputs": [
    {
     "name": "stdout",
     "output_type": "stream",
     "text": [
      "Epoch 1/50\n",
      "11/11 [==============================] - 14s 355ms/step - loss: 3.0133e-04 - accuracy: 1.4090e-07\n",
      "Epoch 2/50\n",
      "11/11 [==============================] - 4s 352ms/step - loss: 6.9061e-05 - accuracy: 1.4090e-07\n",
      "Epoch 3/50\n",
      "11/11 [==============================] - 4s 361ms/step - loss: 5.6261e-05 - accuracy: 1.4090e-07\n",
      "Epoch 4/50\n",
      "11/11 [==============================] - 4s 355ms/step - loss: 5.1154e-05 - accuracy: 1.4090e-07\n",
      "Epoch 5/50\n",
      "11/11 [==============================] - 4s 358ms/step - loss: 4.9277e-05 - accuracy: 1.4090e-07\n",
      "Epoch 6/50\n",
      "11/11 [==============================] - 4s 359ms/step - loss: 4.8825e-05 - accuracy: 1.4090e-07\n",
      "Epoch 7/50\n",
      "11/11 [==============================] - 4s 363ms/step - loss: 4.8739e-05 - accuracy: 1.4090e-07\n",
      "Epoch 8/50\n",
      "11/11 [==============================] - 4s 360ms/step - loss: 4.8647e-05 - accuracy: 1.4090e-07\n",
      "Epoch 9/50\n",
      "11/11 [==============================] - 4s 360ms/step - loss: 4.8636e-05 - accuracy: 1.4090e-07\n",
      "Epoch 10/50\n",
      "11/11 [==============================] - 4s 356ms/step - loss: 4.8623e-05 - accuracy: 1.4090e-07\n",
      "Epoch 11/50\n",
      "11/11 [==============================] - 4s 356ms/step - loss: 4.8619e-05 - accuracy: 1.4090e-07\n",
      "Epoch 12/50\n",
      "11/11 [==============================] - 4s 360ms/step - loss: 4.8616e-05 - accuracy: 1.4090e-07\n",
      "Epoch 13/50\n",
      "11/11 [==============================] - 4s 361ms/step - loss: 4.8606e-05 - accuracy: 1.4090e-07\n",
      "Epoch 14/50\n",
      "11/11 [==============================] - 4s 359ms/step - loss: 4.8598e-05 - accuracy: 1.4090e-07\n",
      "Epoch 15/50\n",
      "11/11 [==============================] - 4s 361ms/step - loss: 4.8592e-05 - accuracy: 1.4090e-07\n",
      "Epoch 16/50\n",
      "11/11 [==============================] - 4s 361ms/step - loss: 4.8587e-05 - accuracy: 1.4090e-07\n",
      "Epoch 17/50\n",
      "11/11 [==============================] - 4s 363ms/step - loss: 4.8581e-05 - accuracy: 1.4090e-07\n",
      "Epoch 18/50\n",
      "11/11 [==============================] - 4s 367ms/step - loss: 4.8575e-05 - accuracy: 1.4090e-07\n",
      "Epoch 19/50\n",
      "11/11 [==============================] - 4s 369ms/step - loss: 4.8568e-05 - accuracy: 1.4090e-07\n",
      "Epoch 20/50\n",
      "11/11 [==============================] - 4s 354ms/step - loss: 4.8562e-05 - accuracy: 1.4090e-07\n",
      "Epoch 21/50\n",
      "11/11 [==============================] - 4s 374ms/step - loss: 4.8570e-05 - accuracy: 1.4090e-07\n",
      "Epoch 22/50\n",
      "11/11 [==============================] - 4s 372ms/step - loss: 4.8553e-05 - accuracy: 1.4090e-07\n",
      "Epoch 23/50\n",
      "11/11 [==============================] - 4s 372ms/step - loss: 4.8562e-05 - accuracy: 1.4090e-07\n",
      "Epoch 24/50\n",
      "11/11 [==============================] - 4s 359ms/step - loss: 4.8550e-05 - accuracy: 1.4090e-07\n",
      "Epoch 25/50\n",
      "11/11 [==============================] - 4s 375ms/step - loss: 4.8531e-05 - accuracy: 1.4090e-07\n",
      "Epoch 26/50\n",
      "11/11 [==============================] - 4s 365ms/step - loss: 4.8529e-05 - accuracy: 1.4090e-07\n",
      "Epoch 27/50\n",
      "11/11 [==============================] - 4s 362ms/step - loss: 4.8521e-05 - accuracy: 1.4090e-07\n",
      "Epoch 28/50\n",
      "11/11 [==============================] - 4s 371ms/step - loss: 4.8513e-05 - accuracy: 1.4090e-07\n",
      "Epoch 29/50\n",
      "11/11 [==============================] - 4s 379ms/step - loss: 4.8508e-05 - accuracy: 1.4090e-07\n",
      "Epoch 30/50\n",
      "11/11 [==============================] - 4s 390ms/step - loss: 4.8505e-05 - accuracy: 1.4090e-07\n",
      "Epoch 31/50\n",
      "11/11 [==============================] - 4s 367ms/step - loss: 4.8495e-05 - accuracy: 1.4090e-07\n",
      "Epoch 32/50\n",
      "11/11 [==============================] - 4s 360ms/step - loss: 4.8496e-05 - accuracy: 1.4090e-07\n",
      "Epoch 33/50\n",
      "11/11 [==============================] - 4s 362ms/step - loss: 4.8484e-05 - accuracy: 1.4090e-07\n",
      "Epoch 34/50\n",
      "11/11 [==============================] - 4s 360ms/step - loss: 4.8485e-05 - accuracy: 1.4090e-07\n",
      "Epoch 35/50\n",
      "11/11 [==============================] - 4s 374ms/step - loss: 4.8481e-05 - accuracy: 1.4090e-07\n",
      "Epoch 36/50\n",
      "11/11 [==============================] - 4s 371ms/step - loss: 4.8468e-05 - accuracy: 1.4090e-07\n",
      "Epoch 37/50\n",
      "11/11 [==============================] - 4s 368ms/step - loss: 4.8465e-05 - accuracy: 1.4090e-07\n",
      "Epoch 38/50\n",
      "11/11 [==============================] - 4s 362ms/step - loss: 4.8472e-05 - accuracy: 1.4090e-07\n",
      "Epoch 39/50\n",
      "11/11 [==============================] - 4s 377ms/step - loss: 4.8454e-05 - accuracy: 1.4090e-07\n",
      "Epoch 40/50\n",
      "11/11 [==============================] - 4s 370ms/step - loss: 4.8442e-05 - accuracy: 1.4090e-07\n",
      "Epoch 41/50\n",
      "11/11 [==============================] - 4s 368ms/step - loss: 4.8447e-05 - accuracy: 1.4090e-07\n",
      "Epoch 42/50\n",
      "11/11 [==============================] - 4s 365ms/step - loss: 4.8433e-05 - accuracy: 1.4090e-07\n",
      "Epoch 43/50\n",
      "11/11 [==============================] - 4s 374ms/step - loss: 4.8427e-05 - accuracy: 1.4090e-07\n",
      "Epoch 44/50\n",
      "11/11 [==============================] - 4s 374ms/step - loss: 4.8422e-05 - accuracy: 1.4090e-07\n",
      "Epoch 45/50\n",
      "11/11 [==============================] - 4s 373ms/step - loss: 4.8421e-05 - accuracy: 1.4090e-07\n",
      "Epoch 46/50\n",
      "11/11 [==============================] - 4s 368ms/step - loss: 4.8434e-05 - accuracy: 1.4090e-07\n",
      "Epoch 47/50\n",
      "11/11 [==============================] - 4s 360ms/step - loss: 4.8412e-05 - accuracy: 1.4090e-07\n",
      "Epoch 48/50\n",
      "11/11 [==============================] - 4s 374ms/step - loss: 4.8398e-05 - accuracy: 1.4090e-07\n",
      "Epoch 49/50\n",
      "11/11 [==============================] - 4s 363ms/step - loss: 4.8394e-05 - accuracy: 1.4090e-07\n",
      "Epoch 50/50\n",
      "11/11 [==============================] - 4s 359ms/step - loss: 4.8390e-05 - accuracy: 1.4090e-07\n"
     ]
    },
    {
     "data": {
      "text/plain": [
       "<keras.callbacks.History at 0x156556d6490>"
      ]
     },
     "execution_count": 14,
     "metadata": {},
     "output_type": "execute_result"
    }
   ],
   "source": [
    "model.fit(padded_array,padded_array, epochs=50,batch_size=256)"
   ]
  },
  {
   "cell_type": "code",
   "execution_count": 15,
   "metadata": {},
   "outputs": [],
   "source": [
    "model.save(\"trained_model.h5\")"
   ]
  },
  {
   "cell_type": "code",
   "execution_count": 16,
   "metadata": {},
   "outputs": [
    {
     "data": {
      "text/plain": [
       "(1, 2754, 1)"
      ]
     },
     "execution_count": 16,
     "metadata": {},
     "output_type": "execute_result"
    }
   ],
   "source": [
    "test = padded_array[0]\n",
    "test = test.reshape((1,test.shape[0],test.shape[1]))\n",
    "test.shape"
   ]
  },
  {
   "cell_type": "code",
   "execution_count": 17,
   "metadata": {},
   "outputs": [
    {
     "data": {
      "text/plain": [
       "array([[[0.03395077],\n",
       "        [0.03423658],\n",
       "        [0.03405404],\n",
       "        ...,\n",
       "        [0.03405459],\n",
       "        [0.03405459],\n",
       "        [0.03405459]]])"
      ]
     },
     "execution_count": 17,
     "metadata": {},
     "output_type": "execute_result"
    }
   ],
   "source": [
    "test"
   ]
  },
  {
   "cell_type": "code",
   "execution_count": 18,
   "metadata": {},
   "outputs": [
    {
     "name": "stdout",
     "output_type": "stream",
     "text": [
      "(1, 2754, 1)\n",
      "[[[0.01562083]\n",
      "  [0.02286443]\n",
      "  [0.02804401]\n",
      "  ...\n",
      "  [0.03507142]\n",
      "  [0.03507142]\n",
      "  [0.03507142]]]\n"
     ]
    }
   ],
   "source": [
    "yhat = model.predict(test)\n",
    "print(yhat.shape)\n",
    "print(yhat)"
   ]
  },
  {
   "cell_type": "code",
   "execution_count": 19,
   "metadata": {},
   "outputs": [
    {
     "name": "stdout",
     "output_type": "stream",
     "text": [
      "Model: \"model\"\n",
      "_________________________________________________________________\n",
      " Layer (type)                Output Shape              Param #   \n",
      "=================================================================\n",
      " masking_input (InputLayer)  [(None, 2754, 1)]         0         \n",
      "                                                                 \n",
      " masking (Masking)           (None, 2754, 1)           0         \n",
      "                                                                 \n",
      " lstm (LSTM)                 (None, 2754, 64)          16896     \n",
      "                                                                 \n",
      " lstm_1 (LSTM)               (None, 16)                5184      \n",
      "                                                                 \n",
      "=================================================================\n",
      "Total params: 22,080\n",
      "Trainable params: 22,080\n",
      "Non-trainable params: 0\n",
      "_________________________________________________________________\n"
     ]
    }
   ],
   "source": [
    "latent_model = Model(inputs=model.inputs, outputs=model.layers[2].output)\n",
    "latent_model.summary()"
   ]
  },
  {
   "cell_type": "code",
   "execution_count": 20,
   "metadata": {},
   "outputs": [
    {
     "name": "stdout",
     "output_type": "stream",
     "text": [
      "(1, 16)\n",
      "[[ 2.9350293e-03 -8.5568298e-03 -7.4010214e-04 -9.6708806e-03\n",
      "   5.1512681e-03  8.4525906e-03 -4.1969627e-04 -1.0130926e-02\n",
      "   1.4658028e-03  5.5410525e-05  5.1214015e-03  9.7210715e-03\n",
      "  -4.4111586e-03 -3.2358358e-03  3.7592356e-03 -1.5061032e-02]]\n"
     ]
    }
   ],
   "source": [
    "yhat = latent_model.predict(test)\n",
    "print(yhat.shape)\n",
    "print(yhat)"
   ]
  },
  {
   "cell_type": "code",
   "execution_count": 21,
   "metadata": {},
   "outputs": [
    {
     "name": "stdout",
     "output_type": "stream",
     "text": [
      "(2577, 16)\n",
      "[[ 0.00293503 -0.00855683 -0.0007401  ... -0.00323584  0.00375924\n",
      "  -0.01506103]\n",
      " [ 0.00286568 -0.00853643 -0.00074083 ... -0.00325116  0.00379929\n",
      "  -0.01500872]\n",
      " [ 0.0029714  -0.00857151 -0.00080289 ... -0.00317949  0.00373571\n",
      "  -0.01519917]\n",
      " ...\n",
      " [ 0.0030034  -0.00857481 -0.00077084 ... -0.0032154   0.00372324\n",
      "  -0.01513969]\n",
      " [ 0.00291408 -0.00855841 -0.00080769 ... -0.00316496  0.00376167\n",
      "  -0.01520649]\n",
      " [ 0.00298484 -0.00856682 -0.00074593 ... -0.00324813  0.00373867\n",
      "  -0.01506498]]\n"
     ]
    }
   ],
   "source": [
    "yhat = latent_model.predict(padded_array)\n",
    "print(yhat.shape)\n",
    "print(yhat)"
   ]
  },
  {
   "cell_type": "code",
   "execution_count": 22,
   "metadata": {},
   "outputs": [
    {
     "data": {
      "text/plain": [
       "array([ 3.0430050e-03, -8.5793594e-03, -7.5265515e-04, -9.6721388e-03,\n",
       "        5.0866036e-03,  8.5179945e-03, -4.1302847e-04, -1.0149174e-02,\n",
       "        1.4771015e-03,  1.2915596e-05,  5.1298062e-03,  9.7880745e-03,\n",
       "       -4.4426839e-03, -3.2387360e-03,  3.7060587e-03, -1.5119390e-02],\n",
       "      dtype=float32)"
      ]
     },
     "execution_count": 22,
     "metadata": {},
     "output_type": "execute_result"
    }
   ],
   "source": [
    "yhat[98]"
   ]
  },
  {
   "cell_type": "code",
   "execution_count": 23,
   "metadata": {},
   "outputs": [
    {
     "data": {
      "text/html": [
       "<div>\n",
       "<style scoped>\n",
       "    .dataframe tbody tr th:only-of-type {\n",
       "        vertical-align: middle;\n",
       "    }\n",
       "\n",
       "    .dataframe tbody tr th {\n",
       "        vertical-align: top;\n",
       "    }\n",
       "\n",
       "    .dataframe thead th {\n",
       "        text-align: right;\n",
       "    }\n",
       "</style>\n",
       "<table border=\"1\" class=\"dataframe\">\n",
       "  <thead>\n",
       "    <tr style=\"text-align: right;\">\n",
       "      <th></th>\n",
       "      <th>author_id</th>\n",
       "      <th>author_name</th>\n",
       "      <th>author_username</th>\n",
       "    </tr>\n",
       "  </thead>\n",
       "  <tbody>\n",
       "    <tr>\n",
       "      <th>0</th>\n",
       "      <td>1000130222338002944</td>\n",
       "      <td>Graça Porte</td>\n",
       "      <td>GraaPortela1</td>\n",
       "    </tr>\n",
       "    <tr>\n",
       "      <th>1</th>\n",
       "      <td>10002992</td>\n",
       "      <td>Zissazin</td>\n",
       "      <td>taissazin</td>\n",
       "    </tr>\n",
       "    <tr>\n",
       "      <th>2</th>\n",
       "      <td>1000378112612470785</td>\n",
       "      <td>Robferreira🇧🇷</td>\n",
       "      <td>RobsonF91678435</td>\n",
       "    </tr>\n",
       "    <tr>\n",
       "      <th>3</th>\n",
       "      <td>1000457428075466754</td>\n",
       "      <td>Linda</td>\n",
       "      <td>elinalv12774504</td>\n",
       "    </tr>\n",
       "    <tr>\n",
       "      <th>4</th>\n",
       "      <td>1000809759187095558</td>\n",
       "      <td>Bruno Lima 97</td>\n",
       "      <td>BrunoLima972</td>\n",
       "    </tr>\n",
       "    <tr>\n",
       "      <th>...</th>\n",
       "      <td>...</td>\n",
       "      <td>...</td>\n",
       "      <td>...</td>\n",
       "    </tr>\n",
       "    <tr>\n",
       "      <th>2573</th>\n",
       "      <td>991789461485875200</td>\n",
       "      <td>M Lu! 🦄🏳️‍🌈🌈</td>\n",
       "      <td>MLPN1976</td>\n",
       "    </tr>\n",
       "    <tr>\n",
       "      <th>2574</th>\n",
       "      <td>993156040253468674</td>\n",
       "      <td>@NeemiasBertyno 🇧🇷🇧🇷🇧🇷🇧🇷</td>\n",
       "      <td>BertynosTata</td>\n",
       "    </tr>\n",
       "    <tr>\n",
       "      <th>2575</th>\n",
       "      <td>993999368511475718</td>\n",
       "      <td>joão Antonio</td>\n",
       "      <td>Joao_Aoficial</td>\n",
       "    </tr>\n",
       "    <tr>\n",
       "      <th>2576</th>\n",
       "      <td>994628533787025408</td>\n",
       "      <td>Jane Peixoto</td>\n",
       "      <td>janepeixoto787</td>\n",
       "    </tr>\n",
       "    <tr>\n",
       "      <th>2577</th>\n",
       "      <td>99773647</td>\n",
       "      <td>#Vemvacina 🇧🇷🌵</td>\n",
       "      <td>diascynthia</td>\n",
       "    </tr>\n",
       "  </tbody>\n",
       "</table>\n",
       "<p>2578 rows × 3 columns</p>\n",
       "</div>"
      ],
      "text/plain": [
       "                author_id               author_name  author_username\n",
       "0     1000130222338002944               Graça Porte     GraaPortela1\n",
       "1                10002992                  Zissazin        taissazin\n",
       "2     1000378112612470785             Robferreira🇧🇷  RobsonF91678435\n",
       "3     1000457428075466754                     Linda  elinalv12774504\n",
       "4     1000809759187095558             Bruno Lima 97     BrunoLima972\n",
       "...                   ...                       ...              ...\n",
       "2573   991789461485875200              M Lu! 🦄🏳️‍🌈🌈         MLPN1976\n",
       "2574   993156040253468674  @NeemiasBertyno 🇧🇷🇧🇷🇧🇷🇧🇷     BertynosTata\n",
       "2575   993999368511475718              joão Antonio    Joao_Aoficial\n",
       "2576   994628533787025408              Jane Peixoto   janepeixoto787\n",
       "2577             99773647            #Vemvacina 🇧🇷🌵      diascynthia\n",
       "\n",
       "[2578 rows x 3 columns]"
      ]
     },
     "execution_count": 23,
     "metadata": {},
     "output_type": "execute_result"
    }
   ],
   "source": [
    "author_df = pd.DataFrame(author_id,columns=[\"author_id\"])\n",
    "retweet_df = pd.read_csv(\"authors.csv\",index_col=0, dtype={'author_id':str})\n",
    "author_df = author_df.merge(retweet_df,how='left')\n",
    "author_df"
   ]
  },
  {
   "cell_type": "code",
   "execution_count": 24,
   "metadata": {},
   "outputs": [],
   "source": [
    "import hdbscan\n",
    "clusterer = hdbscan.HDBSCAN(min_cluster_size=10)"
   ]
  },
  {
   "cell_type": "code",
   "execution_count": 25,
   "metadata": {},
   "outputs": [],
   "source": [
    "cluster_labels = clusterer.fit_predict(yhat)"
   ]
  },
  {
   "cell_type": "code",
   "execution_count": 26,
   "metadata": {},
   "outputs": [
    {
     "data": {
      "text/plain": [
       "array([2, 2, 2, ..., 2, 2, 2], dtype=int64)"
      ]
     },
     "execution_count": 26,
     "metadata": {},
     "output_type": "execute_result"
    }
   ],
   "source": [
    "cluster_labels"
   ]
  },
  {
   "cell_type": "code",
   "execution_count": 27,
   "metadata": {},
   "outputs": [
    {
     "data": {
      "text/plain": [
       "{-1: [9, 15, 17, 26, 30, 36, 52, 59, 80, 96, 99, 137, 147, 158, 159, 198, 203, 208, 217, 229, 258, 259, 260, 271, 283, 289, 292, 301, 335, 349, 353, 380, 389, 400, 402, 416, 427, 429, 445, 447, 449, 457, 461, 467, 468, 471, 485, 495, 499, 505, 511, 516, 526, 530, 537, 539, 541, 561, 565, 569, 570, 575, 591, 593, 596, 617, 626, 637, 638, 640, 682, 692, 696, 709, 710, 715, 722, 736, 744, 751, 798, 801, 808, 811, 821, 824, 836, 841, 848, 850, 857, 858, 874, 876, 900, 903, 906, 912, 957, 977, ...], 0: [225, 352, 408, 420, 550, 562, 669, 727, 769, 1339, 1545, 1593, 1674, 1806, 1971, 2065, 2105, 2376, 2390], 1: [47, 186, 382, 574, 905, 1080, 1320, 1486, 1608, 2041, 2486], 2: [0, 1, 2, 3, 4, 5, 6, 7, 8, 10, 11, 12, 13, 14, 16, 18, 19, 20, 21, 22, 23, 24, 25, 27, 28, 29, 31, 32, 33, 34, 35, 37, 38, 39, 40, 41, 42, 43, 44, 45, 46, 48, 49, 50, 51, 53, 54, 55, 56, 57, 58, 60, 61, 62, 63, 64, 65, 66, 67, 68, 69, 70, 71, 72, 73, 74, 75, 76, 77, 78, 79, 81, 82, 83, 84, 85, 86, 87, 88, 89, 90, 91, 92, 93, 94, 95, 97, 98, 100, 101, 102, 103, 104, 105, 106, 107, 108, 109, 110, 111, ...]}"
      ]
     },
     "execution_count": 27,
     "metadata": {},
     "output_type": "execute_result"
    }
   ],
   "source": [
    "df = pd.DataFrame({'cluster_labels':cluster_labels})\n",
    "\n",
    "clusters = df.groupby(by=df.cluster_labels)\n",
    "clusters.groups"
   ]
  },
  {
   "cell_type": "code",
   "execution_count": 28,
   "metadata": {},
   "outputs": [],
   "source": [
    "# cluster_list = [48, 187, 232, 334, 431, 595, 621, 764, 829, 859, 956, 1613, 1676, 2260, 2418, 2472]"
   ]
  },
  {
   "cell_type": "code",
   "execution_count": 29,
   "metadata": {},
   "outputs": [],
   "source": [
    "cluster_list = list(clusters.get_group(-1).index)"
   ]
  },
  {
   "cell_type": "code",
   "execution_count": 30,
   "metadata": {},
   "outputs": [
    {
     "data": {
      "text/html": [
       "<div>\n",
       "<style scoped>\n",
       "    .dataframe tbody tr th:only-of-type {\n",
       "        vertical-align: middle;\n",
       "    }\n",
       "\n",
       "    .dataframe tbody tr th {\n",
       "        vertical-align: top;\n",
       "    }\n",
       "\n",
       "    .dataframe thead th {\n",
       "        text-align: right;\n",
       "    }\n",
       "</style>\n",
       "<table border=\"1\" class=\"dataframe\">\n",
       "  <thead>\n",
       "    <tr style=\"text-align: right;\">\n",
       "      <th></th>\n",
       "      <th>author_id</th>\n",
       "      <th>author_name</th>\n",
       "      <th>author_username</th>\n",
       "    </tr>\n",
       "  </thead>\n",
       "  <tbody>\n",
       "    <tr>\n",
       "      <th>9</th>\n",
       "      <td>100615509</td>\n",
       "      <td>@SOS_RIO</td>\n",
       "      <td>SOS_RIO</td>\n",
       "    </tr>\n",
       "    <tr>\n",
       "      <th>15</th>\n",
       "      <td>1011817655957893120</td>\n",
       "      <td>Rstats</td>\n",
       "      <td>rstatstweet</td>\n",
       "    </tr>\n",
       "    <tr>\n",
       "      <th>17</th>\n",
       "      <td>1012469182359842816</td>\n",
       "      <td>LJ maior escândalo judic da história da humani...</td>\n",
       "      <td>Mariademirai</td>\n",
       "    </tr>\n",
       "    <tr>\n",
       "      <th>26</th>\n",
       "      <td>1017960921107398661</td>\n",
       "      <td>Milionário</td>\n",
       "      <td>ganbiarrero</td>\n",
       "    </tr>\n",
       "    <tr>\n",
       "      <th>30</th>\n",
       "      <td>1020263844390875136</td>\n",
       "      <td>Dinda Maria 🇧🇷🚩🚩🚩</td>\n",
       "      <td>sampa_vip</td>\n",
       "    </tr>\n",
       "    <tr>\n",
       "      <th>...</th>\n",
       "      <td>...</td>\n",
       "      <td>...</td>\n",
       "      <td>...</td>\n",
       "    </tr>\n",
       "    <tr>\n",
       "      <th>2531</th>\n",
       "      <td>962789073638383616</td>\n",
       "      <td>JôJôAngel🇧🇷🇧🇷🇧🇷</td>\n",
       "      <td>bonita67391798</td>\n",
       "    </tr>\n",
       "    <tr>\n",
       "      <th>2537</th>\n",
       "      <td>966661637859172354</td>\n",
       "      <td>ger-🇧🇷🇮🇱 🇺🇸Republicano</td>\n",
       "      <td>gvenicio</td>\n",
       "    </tr>\n",
       "    <tr>\n",
       "      <th>2541</th>\n",
       "      <td>97250580</td>\n",
       "      <td>Rádio Proletário</td>\n",
       "      <td>RadioProletrio</td>\n",
       "    </tr>\n",
       "    <tr>\n",
       "      <th>2545</th>\n",
       "      <td>974392735238119424</td>\n",
       "      <td>Fabio Soares 🇧🇷🚩</td>\n",
       "      <td>FabioSoares0</td>\n",
       "    </tr>\n",
       "    <tr>\n",
       "      <th>2563</th>\n",
       "      <td>982763611717238784</td>\n",
       "      <td>Madalena Serapilha</td>\n",
       "      <td>MSerapilha</td>\n",
       "    </tr>\n",
       "  </tbody>\n",
       "</table>\n",
       "<p>262 rows × 3 columns</p>\n",
       "</div>"
      ],
      "text/plain": [
       "                author_id                                        author_name  \\\n",
       "9               100615509                                           @SOS_RIO   \n",
       "15    1011817655957893120                                             Rstats   \n",
       "17    1012469182359842816  LJ maior escândalo judic da história da humani...   \n",
       "26    1017960921107398661                                         Milionário   \n",
       "30    1020263844390875136                                  Dinda Maria 🇧🇷🚩🚩🚩   \n",
       "...                   ...                                                ...   \n",
       "2531   962789073638383616                                    JôJôAngel🇧🇷🇧🇷🇧🇷   \n",
       "2537   966661637859172354                             ger-🇧🇷🇮🇱 🇺🇸Republicano   \n",
       "2541             97250580                                   Rádio Proletário   \n",
       "2545   974392735238119424                                   Fabio Soares 🇧🇷🚩   \n",
       "2563   982763611717238784                                 Madalena Serapilha   \n",
       "\n",
       "     author_username  \n",
       "9            SOS_RIO  \n",
       "15       rstatstweet  \n",
       "17      Mariademirai  \n",
       "26       ganbiarrero  \n",
       "30         sampa_vip  \n",
       "...              ...  \n",
       "2531  bonita67391798  \n",
       "2537        gvenicio  \n",
       "2541  RadioProletrio  \n",
       "2545    FabioSoares0  \n",
       "2563      MSerapilha  \n",
       "\n",
       "[262 rows x 3 columns]"
      ]
     },
     "execution_count": 30,
     "metadata": {},
     "output_type": "execute_result"
    }
   ],
   "source": [
    "author_df[author_df.index.isin(cluster_list)]"
   ]
  }
 ],
 "metadata": {
  "interpreter": {
   "hash": "d623e6d50a8c5431be72346c65c84a9ac23a28224b8a2c4d8f5b8ea72a60dd02"
  },
  "kernelspec": {
   "display_name": "Python 3.9.7 64-bit ('venv': venv)",
   "language": "python",
   "name": "python3"
  },
  "language_info": {
   "codemirror_mode": {
    "name": "ipython",
    "version": 3
   },
   "file_extension": ".py",
   "mimetype": "text/x-python",
   "name": "python",
   "nbconvert_exporter": "python",
   "pygments_lexer": "ipython3",
   "version": "3.9.7"
  },
  "orig_nbformat": 4
 },
 "nbformat": 4,
 "nbformat_minor": 2
}
