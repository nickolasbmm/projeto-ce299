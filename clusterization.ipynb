{
 "cells": [
  {
   "cell_type": "code",
   "execution_count": 1,
   "metadata": {},
   "outputs": [],
   "source": [
    "import tensorflow as tf\n",
    "from tensorflow.keras.models import load_model,Model\n",
    "import numpy as np\n",
    "import pandas as pd\n",
    "import csv\n",
    "from sklearn.preprocessing import MaxAbsScaler\n",
    "import hdbscan"
   ]
  },
  {
   "cell_type": "code",
   "execution_count": 2,
   "metadata": {},
   "outputs": [],
   "source": [
    "model = load_model(\"saved-model-best.hdf5\")"
   ]
  },
  {
   "cell_type": "code",
   "execution_count": 3,
   "metadata": {},
   "outputs": [
    {
     "name": "stdout",
     "output_type": "stream",
     "text": [
      "Model: \"model\"\n",
      "_________________________________________________________________\n",
      " Layer (type)                Output Shape              Param #   \n",
      "=================================================================\n",
      " masking_input (InputLayer)  [(None, 28092, 1)]        0         \n",
      "                                                                 \n",
      " masking (Masking)           (None, 28092, 1)          0         \n",
      "                                                                 \n",
      " lstm (LSTM)                 (None, 28092, 64)         16896     \n",
      "                                                                 \n",
      " lstm_1 (LSTM)               (None, 16)                5184      \n",
      "                                                                 \n",
      "=================================================================\n",
      "Total params: 22,080\n",
      "Trainable params: 22,080\n",
      "Non-trainable params: 0\n",
      "_________________________________________________________________\n"
     ]
    }
   ],
   "source": [
    "latent_model = Model(inputs=model.inputs, outputs=model.layers[2].output)\n",
    "latent_model.summary()"
   ]
  },
  {
   "cell_type": "code",
   "execution_count": 4,
   "metadata": {},
   "outputs": [],
   "source": [
    "with open(\"out.csv\",'r') as dest_f:\n",
    "    data_iter = csv.reader(dest_f,delimiter = \",\")\n",
    "    data = [np.array(data,dtype=float) for data in data_iter]\n",
    "    # data = [x.reshape(x.shape[0],1,1) for x in data]\n",
    "data_array = np.asarray(data, dtype = object)"
   ]
  },
  {
   "cell_type": "code",
   "execution_count": 5,
   "metadata": {},
   "outputs": [
    {
     "data": {
      "text/plain": [
       "array([['1000010400946118656'],\n",
       "       ['1000042745380134912'],\n",
       "       ['1000130222338002944'],\n",
       "       ...,\n",
       "       ['999978890058706944'],\n",
       "       ['999983906026901504'],\n",
       "       ['999993840982482944']], dtype=object)"
      ]
     },
     "execution_count": 5,
     "metadata": {},
     "output_type": "execute_result"
    }
   ],
   "source": [
    "with open(\"out_authors.csv\",'r') as dest_f:\n",
    "    data_iter = csv.reader(dest_f,delimiter = \",\")\n",
    "    data = [np.array(data,dtype=str) for data in data_iter]\n",
    "    # data = [x.reshape(x.shape[0],1,1) for x in data]\n",
    "author_id = np.asarray(data, dtype = object)\n",
    "author_id"
   ]
  },
  {
   "cell_type": "code",
   "execution_count": 6,
   "metadata": {},
   "outputs": [
    {
     "data": {
      "text/plain": [
       "(11117, 28092, 1)"
      ]
     },
     "execution_count": 6,
     "metadata": {},
     "output_type": "execute_result"
    }
   ],
   "source": [
    "padded_array = tf.keras.preprocessing.sequence.pad_sequences(data_array,padding=\"post\")\n",
    "padded_array = padded_array.reshape((padded_array.shape[0],padded_array.shape[1],1))\n",
    "scaler = MaxAbsScaler()\n",
    "padded_array = scaler.fit_transform(padded_array.reshape(-1, padded_array.shape[-1])).reshape(padded_array.shape)\n",
    "padded_array.shape"
   ]
  },
  {
   "cell_type": "code",
   "execution_count": 7,
   "metadata": {},
   "outputs": [
    {
     "name": "stdout",
     "output_type": "stream",
     "text": [
      "(11117, 16)\n",
      "[[ 0.0277121   0.01236769 -0.00647678 ... -0.03303443  0.0185124\n",
      "  -0.01665536]\n",
      " [ 0.02785833  0.01247913 -0.00645102 ... -0.03319067  0.0184727\n",
      "  -0.01670795]\n",
      " [ 0.02802533  0.01285665 -0.00677935 ... -0.03348193  0.01823122\n",
      "  -0.01696554]\n",
      " ...\n",
      " [ 0.02739336  0.01164308 -0.00586851 ... -0.03235722  0.01900453\n",
      "  -0.01620082]\n",
      " [ 0.02794638  0.01273355 -0.00671075 ... -0.03334717  0.01830301\n",
      "  -0.01689139]\n",
      " [ 0.02760782  0.0121729  -0.00633164 ... -0.03285101  0.01863324\n",
      "  -0.01652762]]\n"
     ]
    }
   ],
   "source": [
    "yhat = latent_model.predict(padded_array)\n",
    "print(yhat.shape)\n",
    "print(yhat)"
   ]
  },
  {
   "cell_type": "code",
   "execution_count": 8,
   "metadata": {},
   "outputs": [
    {
     "name": "stderr",
     "output_type": "stream",
     "text": [
      "d:\\HDD\\Comp2\\CE-299\\projeto-ce299\\venv\\lib\\site-packages\\numpy\\lib\\arraysetops.py:583: FutureWarning: elementwise comparison failed; returning scalar instead, but in the future will perform elementwise comparison\n",
      "  mask |= (ar1 == a)\n"
     ]
    },
    {
     "data": {
      "text/html": [
       "<div>\n",
       "<style scoped>\n",
       "    .dataframe tbody tr th:only-of-type {\n",
       "        vertical-align: middle;\n",
       "    }\n",
       "\n",
       "    .dataframe tbody tr th {\n",
       "        vertical-align: top;\n",
       "    }\n",
       "\n",
       "    .dataframe thead th {\n",
       "        text-align: right;\n",
       "    }\n",
       "</style>\n",
       "<table border=\"1\" class=\"dataframe\">\n",
       "  <thead>\n",
       "    <tr style=\"text-align: right;\">\n",
       "      <th></th>\n",
       "      <th>author_id</th>\n",
       "      <th>author_name</th>\n",
       "      <th>author_username</th>\n",
       "    </tr>\n",
       "  </thead>\n",
       "  <tbody>\n",
       "    <tr>\n",
       "      <th>0</th>\n",
       "      <td>1000010400946118656</td>\n",
       "      <td>daniela 💆🏻‍♀️</td>\n",
       "      <td>bazaaadaqui</td>\n",
       "    </tr>\n",
       "    <tr>\n",
       "      <th>1</th>\n",
       "      <td>1000042745380134912</td>\n",
       "      <td>pārtÿ änîmål🇸🇻</td>\n",
       "      <td>fortebeatrizz</td>\n",
       "    </tr>\n",
       "    <tr>\n",
       "      <th>2</th>\n",
       "      <td>1000130222338002944</td>\n",
       "      <td>Graça Porte</td>\n",
       "      <td>GraaPortela1</td>\n",
       "    </tr>\n",
       "    <tr>\n",
       "      <th>3</th>\n",
       "      <td>1000168525145821186</td>\n",
       "      <td>Juraci Moreira</td>\n",
       "      <td>Juracimoreira2</td>\n",
       "    </tr>\n",
       "    <tr>\n",
       "      <th>4</th>\n",
       "      <td>1000288372676550656</td>\n",
       "      <td>inês</td>\n",
       "      <td>inesCsilvaa</td>\n",
       "    </tr>\n",
       "    <tr>\n",
       "      <th>...</th>\n",
       "      <td>...</td>\n",
       "      <td>...</td>\n",
       "      <td>...</td>\n",
       "    </tr>\n",
       "    <tr>\n",
       "      <th>11136</th>\n",
       "      <td>999975222974525440</td>\n",
       "      <td>Carlos Furlanetto</td>\n",
       "      <td>CarlosFurlanet2</td>\n",
       "    </tr>\n",
       "    <tr>\n",
       "      <th>11137</th>\n",
       "      <td>999976112</td>\n",
       "      <td>Marcelo</td>\n",
       "      <td>mc_carneiro</td>\n",
       "    </tr>\n",
       "    <tr>\n",
       "      <th>11138</th>\n",
       "      <td>999978890058706944</td>\n",
       "      <td>margarida.</td>\n",
       "      <td>sprousebich</td>\n",
       "    </tr>\n",
       "    <tr>\n",
       "      <th>11139</th>\n",
       "      <td>999983906026901504</td>\n",
       "      <td>Coronel Ricardo EB</td>\n",
       "      <td>Josericardopon7</td>\n",
       "    </tr>\n",
       "    <tr>\n",
       "      <th>11140</th>\n",
       "      <td>999993840982482944</td>\n",
       "      <td>baião | V</td>\n",
       "      <td>baiaoooooo</td>\n",
       "    </tr>\n",
       "  </tbody>\n",
       "</table>\n",
       "<p>11141 rows × 3 columns</p>\n",
       "</div>"
      ],
      "text/plain": [
       "                 author_id         author_name  author_username\n",
       "0      1000010400946118656       daniela 💆🏻‍♀️      bazaaadaqui\n",
       "1      1000042745380134912      pārtÿ änîmål🇸🇻    fortebeatrizz\n",
       "2      1000130222338002944         Graça Porte     GraaPortela1\n",
       "3      1000168525145821186      Juraci Moreira   Juracimoreira2\n",
       "4      1000288372676550656                inês      inesCsilvaa\n",
       "...                    ...                 ...              ...\n",
       "11136   999975222974525440   Carlos Furlanetto  CarlosFurlanet2\n",
       "11137            999976112             Marcelo      mc_carneiro\n",
       "11138   999978890058706944          margarida.      sprousebich\n",
       "11139   999983906026901504  Coronel Ricardo EB  Josericardopon7\n",
       "11140   999993840982482944           baião | V       baiaoooooo\n",
       "\n",
       "[11141 rows x 3 columns]"
      ]
     },
     "execution_count": 8,
     "metadata": {},
     "output_type": "execute_result"
    }
   ],
   "source": [
    "author_df = pd.DataFrame(author_id,columns=[\"author_id\"])\n",
    "retweet_df = pd.read_csv(\"authors_jan_fev.csv\",index_col=0, dtype={'author_id':str})\n",
    "author_df = author_df.merge(retweet_df,how='left')\n",
    "author_df"
   ]
  },
  {
   "cell_type": "code",
   "execution_count": 9,
   "metadata": {},
   "outputs": [],
   "source": [
    "clusterer = hdbscan.HDBSCAN(min_cluster_size=10)"
   ]
  },
  {
   "cell_type": "code",
   "execution_count": 10,
   "metadata": {},
   "outputs": [
    {
     "data": {
      "text/plain": [
       "array([-1, -1, 36, ..., -1, -1, -1], dtype=int64)"
      ]
     },
     "execution_count": 10,
     "metadata": {},
     "output_type": "execute_result"
    }
   ],
   "source": [
    "cluster_labels = clusterer.fit_predict(yhat)\n",
    "cluster_labels"
   ]
  },
  {
   "cell_type": "code",
   "execution_count": 11,
   "metadata": {},
   "outputs": [
    {
     "data": {
      "text/plain": [
       "{-1: [0, 1, 3, 4, 5, 7, 8, 12, 13, 14, 16, 17, 18, 20, 22, 23, 24, 25, 26, 27, 28, 29, 30, 31, 32, 34, 36, 38, 40, 41, 42, 44, 49, 50, 52, 53, 54, 56, 58, 59, 61, 64, 65, 66, 67, 68, 69, 70, 71, 72, 76, 77, 80, 81, 83, 84, 85, 86, 87, 88, 91, 92, 94, 95, 96, 97, 98, 100, 101, 102, 107, 109, 110, 112, 115, 117, 120, 121, 123, 124, 126, 127, 128, 129, 130, 132, 133, 134, 135, 136, 138, 140, 141, 142, 143, 147, 148, 150, 151, 154, ...], 0: [173, 753, 1148, 1957, 2277, 2734, 2977, 2979, 3747, 3986, 3988, 4166, 4311, 4318, 5519, 5541, 9636, 9653, 9903, 10196, 10930], 1: [177, 1217, 1350, 1648, 2312, 4088, 4148, 4160, 4295, 4323, 5858, 6396, 6842, 7429, 7558, 8998], 2: [90, 378, 471, 791, 1048, 1247, 1312, 1405, 2017, 2143, 2207, 2394, 2399, 2486, 2601, 2799, 2806, 2962, 3044, 3079, 3240, 3285, 3293, 3307, 3368, 3499, 3554, 3610, 3628, 3682, 3693, 3735, 3804, 3851, 3928, 3972, 4016, 4050, 4202, 4223, 4236, 4256, 4305, 4340, 4358, 4642, 5028, 5053, 5476, 5478, 5560, 5578, 5630, 5726, 6647, 6809, 7111, 7518, 7688, 8266, 8273, 8772, 8916, 9224, 9333, 9374, 9384, 9385, 9978, 10053, 10131, 10319, 10371, 10387, 11003, 11044], 3: [1597, 1800, 1862, 2033, 2175, 2712, 3047, 3365, 3389, 3437, 3619, 4012, 4108, 4265, 4380, 4742, 5122, 6041, 6293, 6941, 7362, 8132, 8597, 9423, 9592], 4: [542, 854, 1505, 2117, 3074, 3827, 3879, 4218, 4244, 4337, 6408, 7185, 7853, 8420], 5: [1376, 2545, 3281, 4953, 5186, 7221, 9503, 10190, 10299, 11019], 6: [250, 2132, 2134, 2387, 3259, 4362, 4753, 5363, 7930, 7959, 8141], 7: [1812, 5312, 6064, 6358, 6646, 6962, 7070, 8152, 8951, 9096, 9506, 11109], 8: [2035, 3257, 3683, 4103, 4212, 4504, 4718, 5341, 5558, 6017, 8312, 9048, 9114, 9121, 9560, 9917, 10003, 10761], 9: [218, 339, 678, 1093, 1673, 2900, 4618, 6965, 7053, 9433, 9650], 10: [2565, 2685, 3663, 3995, 5768, 6425, 7868, 7902, 8442, 8836, 8931, 9438], 11: [1953, 2026, 2061, 3980, 6992, 7572, 8067, 8484, 8629, 10975], 12: [104, 968, 1158, 1565, 2322, 2773, 2801, 2923, 5031, 5162, 5219, 5663, 6973, 8105, 9076, 9391, 9502, 10326], 13: [608, 1157, 1258, 1334, 1899, 2706, 2932, 3487, 3512, 4810, 5333, 5716, 5764, 5773, 6389, 6499, 6748, 6841, 7569, 7619, 8113, 8693, 8882, 9496, 10565], 14: [237, 2128, 2933, 4796, 4967, 5628, 5977, 6119, 6805, 7307, 7438, 9103, 10604], 15: [114, 367, 467, 567, 787, 1060, 1128, 1297, 1344, 1483, 2090, 2303, 2337, 2360, 2378, 2827, 2929, 3244, 5588, 6045, 6434, 6481, 6859, 7072, 7223, 7407, 7452, 7599, 8933, 10613, 10706], 16: [57, 405, 426, 991, 1740, 3001, 4771, 4926, 5052, 5299, 6520, 10728], 17: [190, 1200, 1618, 1780, 2006, 2642, 4106, 4554, 7284, 7291, 7919, 8005, 8106, 8327, 10496, 10606, 10624], 18: [203, 914, 1170, 1332, 1391, 1468, 2369, 2408, 2611, 2681, 2770, 2775, 2833, 3057, 3193, 3414, 3581, 4172, 4331, 4579, 5696, 6095, 6431, 6637, 7462, 7512, 7535, 7687, 9621, 9637, 9969, 10052, 10229, 10614], 19: [217, 895, 997, 1830, 2021, 2227, 2462, 2539, 2897, 3006, 3319, 3566, 3964, 4062, 4209, 4763, 4818, 4856, 5193, 5208, 5349, 5617, 5748, 5893, 6141, 6673, 6814, 7097, 7228, 7529, 8008, 8247, 8376, 8697, 8948, 9284, 9301, 9334, 9813, 9993, 10112, 10172, 10209, 10490, 10762, 10922, 10999], 20: [106, 569, 1195, 2012, 2189, 2256, 2779, 2954, 3022, 3213, 3407, 3638, 3647, 3652, 3760, 3857, 4164, 4214, 4284, 4594, 5134, 5212, 5351, 6729, 7732, 7841, 8123, 8388, 8410, 8880, 9118, 9446, 9830, 10278, 10833, 10870], 21: [550, 1245, 3480, 4574, 5465, 5958, 5988, 6687, 6707, 6947, 7390, 8637, 8717, 8749, 9408, 9746, 10126, 10539], 22: [37, 162, 400, 925, 1940, 2214, 2230, 2498, 2676, 2771, 3360, 3369, 4441, 5360, 5535, 5817, 6698, 6726, 6916, 6937, 7043, 7202, 7522, 7858, 8162, 8207, 8373, 8741, 8903, 9603, 9790, 10027, 10714, 10718, 10824], 23: [355, 1037, 1925, 2610, 3469, 3677, 3816, 4905, 5698, 8483, 10457], 24: [1696, 2433, 2595, 2964, 3915, 3967, 4252, 4674, 4802, 4970, 5017, 5252, 5253, 5316, 5732, 8415, 8798, 9281, 9938, 11094], 25: [146, 535, 870, 1369, 3167, 3458, 4220, 5896, 6172, 6402, 7833, 7838, 8074, 8451, 8653, 9504, 10069, 10108], 26: [587, 956, 2355, 3525, 4153, 6495, 6592, 6604, 7614, 9779, 9858, 10381, 10940], 27: [932, 1124, 1212, 2125, 2461, 2580, 2656, 2666, 2863, 2928, 3502, 3658, 3803, 3864, 4593, 4854, 5063, 5088, 5486, 5706, 5930, 6256, 6287, 6303, 6785, 7041, 7128, 7218, 7233, 7331, 7393, 7543, 8236, 8261, 8377, 8383, 8818, 9020, 9192, 9202, 9436, 9688, 10347, 10411, 10571, 10577, 10608, 10678, 10799, 10896, 10984, 11050], 28: [597, 1032, 1100, 1242, 1441, 1895, 1959, 1979, 2046, 4800, 5527, 6183, 6679, 7140, 7895, 8153, 9415, 10024, 10334, 10641, 10863], 29: [33, 483, 825, 2151, 4255, 4272, 4374, 6015, 6840, 7237, 7287, 8587, 8724, 8862, 9312, 10140, 10366, 10551], 30: [1426, 2007, 5291, 7828, 8287, 8564, 8796, 9273, 9800, 9891, 10494], 31: [301, 772, 976, 1035, 1084, 1280, 1406, 1464, 1715, 1884, 1903, 2102, 2336, 2634, 2683, 2741, 2839, 3366, 3455, 3460, 3733, 4632, 4801, 5039, 5532, 5626, 5758, 6151, 6170, 6855, 6949, 7174, 7211, 7433, 7477, 7596, 7768, 7990, 8082, 8157, 8428, 8429, 8802, 9047, 9428, 10244, 10484, 10651, 10800, 11067], 32: [960, 2577, 2984, 5966, 6286, 6418, 7549, 8050, 9756, 10822], 33: [2310, 2511, 4099, 6315, 7420, 8140, 9350, 9576, 9609, 10254], 34: [165, 482, 490, 1176, 1372, 2142, 2219, 2418, 3531, 4425, 5640, 6026, 6130, 6825, 7448, 8395, 8923, 9580, 10620, 10656, 10664], 35: [1455, 1576, 1669, 1768, 1981, 2317, 3080, 4197, 4264, 4508, 4564, 5135, 5782, 7969, 8877, 10107], 36: [2, 6, 9, 10, 11, 15, 19, 21, 35, 39, 43, 45, 46, 47, 48, 51, 55, 60, 62, 63, 73, 74, 75, 78, 82, 89, 93, 99, 103, 105, 108, 111, 113, 116, 118, 119, 122, 125, 137, 139, 145, 149, 152, 153, 156, 161, 168, 169, 180, 183, 184, 186, 187, 189, 191, 199, 200, 201, 206, 209, 212, 214, 219, 224, 225, 226, 228, 229, 231, 234, 240, 241, 242, 245, 246, 247, 248, 249, 251, 256, 264, 273, 276, 278, 279, 280, 285, 288, 294, 295, 297, 298, 302, 304, 306, 307, 308, 311, 317, 318, ...], 37: [79, 131, 561, 727, 802, 1549, 1941, 2043, 2537, 2588, 3063, 3708, 4105, 4151, 4585, 5165, 5176, 5264, 5337, 5668, 5862, 5864, 6006, 6059, 6233, 6306, 6469, 6568, 6980, 7528, 7540, 7811, 7830, 8125, 8164, 8615, 8829, 8865, 9299, 9403, 9584, 9796, 9936, 10088, 10139, 10426, 10847, 10903], 38: [144, 387, 473, 902, 1034, 1353, 1496, 1581, 1912, 2333, 3142, 3557, 3737, 3936, 4112, 4287, 4985, 4998, 5008, 5368, 5442, 5936, 6076, 6603, 6651, 6668, 7018, 7055, 7216, 7456, 8321, 8500, 8811, 8988, 9117, 9164, 9354, 9400, 10270, 10288, 10527, 10756, 10825, 10839, 10985]}"
      ]
     },
     "execution_count": 11,
     "metadata": {},
     "output_type": "execute_result"
    }
   ],
   "source": [
    "df = pd.DataFrame({'cluster_labels':cluster_labels})\n",
    "\n",
    "clusters = df.groupby(by=df.cluster_labels)\n",
    "clusters.groups"
   ]
  },
  {
   "cell_type": "code",
   "execution_count": 12,
   "metadata": {},
   "outputs": [
    {
     "data": {
      "text/html": [
       "<div>\n",
       "<style scoped>\n",
       "    .dataframe tbody tr th:only-of-type {\n",
       "        vertical-align: middle;\n",
       "    }\n",
       "\n",
       "    .dataframe tbody tr th {\n",
       "        vertical-align: top;\n",
       "    }\n",
       "\n",
       "    .dataframe thead th {\n",
       "        text-align: right;\n",
       "    }\n",
       "</style>\n",
       "<table border=\"1\" class=\"dataframe\">\n",
       "  <thead>\n",
       "    <tr style=\"text-align: right;\">\n",
       "      <th></th>\n",
       "      <th>author_id</th>\n",
       "      <th>author_name</th>\n",
       "      <th>author_username</th>\n",
       "    </tr>\n",
       "  </thead>\n",
       "  <tbody>\n",
       "    <tr>\n",
       "      <th>0</th>\n",
       "      <td>1000010400946118656</td>\n",
       "      <td>daniela 💆🏻‍♀️</td>\n",
       "      <td>bazaaadaqui</td>\n",
       "    </tr>\n",
       "    <tr>\n",
       "      <th>1</th>\n",
       "      <td>1000042745380134912</td>\n",
       "      <td>pārtÿ änîmål🇸🇻</td>\n",
       "      <td>fortebeatrizz</td>\n",
       "    </tr>\n",
       "    <tr>\n",
       "      <th>3</th>\n",
       "      <td>1000168525145821186</td>\n",
       "      <td>Juraci Moreira</td>\n",
       "      <td>Juracimoreira2</td>\n",
       "    </tr>\n",
       "    <tr>\n",
       "      <th>4</th>\n",
       "      <td>1000288372676550656</td>\n",
       "      <td>inês</td>\n",
       "      <td>inesCsilvaa</td>\n",
       "    </tr>\n",
       "    <tr>\n",
       "      <th>5</th>\n",
       "      <td>10002992</td>\n",
       "      <td>Zissazin</td>\n",
       "      <td>taissazin</td>\n",
       "    </tr>\n",
       "    <tr>\n",
       "      <th>...</th>\n",
       "      <td>...</td>\n",
       "      <td>...</td>\n",
       "      <td>...</td>\n",
       "    </tr>\n",
       "    <tr>\n",
       "      <th>11112</th>\n",
       "      <td>994360452506374146</td>\n",
       "      <td>Mario Rodrigues de Oliveira</td>\n",
       "      <td>marioro23926206</td>\n",
       "    </tr>\n",
       "    <tr>\n",
       "      <th>11113</th>\n",
       "      <td>994628533787025408</td>\n",
       "      <td>Jane Peixoto</td>\n",
       "      <td>janepeixoto787</td>\n",
       "    </tr>\n",
       "    <tr>\n",
       "      <th>11114</th>\n",
       "      <td>994890695004639233</td>\n",
       "      <td>Trabalhista e Progressista 🌹💚 ⚖️🏡🆘</td>\n",
       "      <td>GuilhermePenta</td>\n",
       "    </tr>\n",
       "    <tr>\n",
       "      <th>11115</th>\n",
       "      <td>995066859824271363</td>\n",
       "      <td>Alessandro Sgarbossa</td>\n",
       "      <td>AlessandroSga11</td>\n",
       "    </tr>\n",
       "    <tr>\n",
       "      <th>11116</th>\n",
       "      <td>99533323</td>\n",
       "      <td>Pedro Tarossi 🇾🇪</td>\n",
       "      <td>phtarossi</td>\n",
       "    </tr>\n",
       "  </tbody>\n",
       "</table>\n",
       "<p>6443 rows × 3 columns</p>\n",
       "</div>"
      ],
      "text/plain": [
       "                 author_id                         author_name  \\\n",
       "0      1000010400946118656                       daniela 💆🏻‍♀️   \n",
       "1      1000042745380134912                      pārtÿ änîmål🇸🇻   \n",
       "3      1000168525145821186                      Juraci Moreira   \n",
       "4      1000288372676550656                                inês   \n",
       "5                 10002992                            Zissazin   \n",
       "...                    ...                                 ...   \n",
       "11112   994360452506374146         Mario Rodrigues de Oliveira   \n",
       "11113   994628533787025408                        Jane Peixoto   \n",
       "11114   994890695004639233  Trabalhista e Progressista 🌹💚 ⚖️🏡🆘   \n",
       "11115   995066859824271363                Alessandro Sgarbossa   \n",
       "11116             99533323                    Pedro Tarossi 🇾🇪   \n",
       "\n",
       "       author_username  \n",
       "0          bazaaadaqui  \n",
       "1        fortebeatrizz  \n",
       "3       Juracimoreira2  \n",
       "4          inesCsilvaa  \n",
       "5            taissazin  \n",
       "...                ...  \n",
       "11112  marioro23926206  \n",
       "11113   janepeixoto787  \n",
       "11114   GuilhermePenta  \n",
       "11115  AlessandroSga11  \n",
       "11116        phtarossi  \n",
       "\n",
       "[6443 rows x 3 columns]"
      ]
     },
     "execution_count": 12,
     "metadata": {},
     "output_type": "execute_result"
    }
   ],
   "source": [
    "cluster_list = list(clusters.get_group(-1).index)\n",
    "author_df[author_df.index.isin(cluster_list)]"
   ]
  }
 ],
 "metadata": {
  "interpreter": {
   "hash": "d623e6d50a8c5431be72346c65c84a9ac23a28224b8a2c4d8f5b8ea72a60dd02"
  },
  "kernelspec": {
   "display_name": "Python 3.9.7 64-bit ('venv': venv)",
   "language": "python",
   "name": "python3"
  },
  "language_info": {
   "codemirror_mode": {
    "name": "ipython",
    "version": 3
   },
   "file_extension": ".py",
   "mimetype": "text/x-python",
   "name": "python",
   "nbconvert_exporter": "python",
   "pygments_lexer": "ipython3",
   "version": "3.9.7"
  },
  "orig_nbformat": 4
 },
 "nbformat": 4,
 "nbformat_minor": 2
}
