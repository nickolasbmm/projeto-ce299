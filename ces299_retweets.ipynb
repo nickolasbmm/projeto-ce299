{
 "cells": [
  {
   "cell_type": "code",
   "execution_count": 1,
   "metadata": {},
   "outputs": [],
   "source": [
    "import pandas as pd"
   ]
  },
  {
   "cell_type": "code",
   "execution_count": 2,
   "metadata": {},
   "outputs": [
    {
     "data": {
      "text/plain": [
       "pandas.core.frame.DataFrame"
      ]
     },
     "execution_count": 2,
     "metadata": {},
     "output_type": "execute_result"
    }
   ],
   "source": [
    "# df = pd.read_csv('./retweets.csv', sep = ',')\n",
    "df = pd.read_csv(\"twitter_crawler/retweets_jan_fev.csv\",index_col=0, sep = ',')\n",
    "type(df) \n",
    "pd.core.frame.DataFrame\n"
   ]
  },
  {
   "cell_type": "code",
   "execution_count": 3,
   "metadata": {},
   "outputs": [
    {
     "data": {
      "text/html": [
       "<div>\n",
       "<style scoped>\n",
       "    .dataframe tbody tr th:only-of-type {\n",
       "        vertical-align: middle;\n",
       "    }\n",
       "\n",
       "    .dataframe tbody tr th {\n",
       "        vertical-align: top;\n",
       "    }\n",
       "\n",
       "    .dataframe thead th {\n",
       "        text-align: right;\n",
       "    }\n",
       "</style>\n",
       "<table border=\"1\" class=\"dataframe\">\n",
       "  <thead>\n",
       "    <tr style=\"text-align: right;\">\n",
       "      <th></th>\n",
       "      <th>author_id</th>\n",
       "      <th>created_at</th>\n",
       "      <th>id</th>\n",
       "      <th>text</th>\n",
       "      <th>referenced_tweets_type</th>\n",
       "      <th>referenced_tweets_id</th>\n",
       "      <th>author_created_at</th>\n",
       "      <th>author_name</th>\n",
       "      <th>author_username</th>\n",
       "      <th>referenced_tweets_author_id</th>\n",
       "      <th>referenced_tweets_created_at</th>\n",
       "      <th>referenced_tweets_text</th>\n",
       "      <th>referenced_tweets_author_created_at</th>\n",
       "      <th>referenced_tweets_author_name</th>\n",
       "      <th>referenced_tweets_author_username</th>\n",
       "    </tr>\n",
       "  </thead>\n",
       "  <tbody>\n",
       "    <tr>\n",
       "      <th>0</th>\n",
       "      <td>1521088908</td>\n",
       "      <td>2021-01-01 00:06:44+00:00</td>\n",
       "      <td>1344797168524288003</td>\n",
       "      <td>RT @mferracinii: covid espero que vc esteja fa...</td>\n",
       "      <td>retweeted</td>\n",
       "      <td>1344645290406670337</td>\n",
       "      <td>2013-06-16 03:52:00+00:00</td>\n",
       "      <td>Nathália Pagliasse</td>\n",
       "      <td>natpagliiasse</td>\n",
       "      <td>1104120204186005504</td>\n",
       "      <td>2020-12-31 14:03:14+00:00</td>\n",
       "      <td>covid espero que vc esteja fazendo as malas ne...</td>\n",
       "      <td>2019-03-08 20:42:25+00:00</td>\n",
       "      <td>hemi</td>\n",
       "      <td>hemillyy_f</td>\n",
       "    </tr>\n",
       "    <tr>\n",
       "      <th>1</th>\n",
       "      <td>460483793</td>\n",
       "      <td>2021-01-01 00:06:42+00:00</td>\n",
       "      <td>1344797160588668930</td>\n",
       "      <td>RT @mferracinii: covid espero que vc esteja fa...</td>\n",
       "      <td>retweeted</td>\n",
       "      <td>1344645290406670337</td>\n",
       "      <td>2012-01-10 20:19:38+00:00</td>\n",
       "      <td>#MakeItShine ✈🎒🌎</td>\n",
       "      <td>maycon_gn</td>\n",
       "      <td>1104120204186005504</td>\n",
       "      <td>2020-12-31 14:03:14+00:00</td>\n",
       "      <td>covid espero que vc esteja fazendo as malas ne...</td>\n",
       "      <td>2019-03-08 20:42:25+00:00</td>\n",
       "      <td>hemi</td>\n",
       "      <td>hemillyy_f</td>\n",
       "    </tr>\n",
       "    <tr>\n",
       "      <th>2</th>\n",
       "      <td>1207417151621140480</td>\n",
       "      <td>2021-01-01 00:06:40+00:00</td>\n",
       "      <td>1344797150039973888</td>\n",
       "      <td>RT @mferracinii: covid espero que vc esteja fa...</td>\n",
       "      <td>retweeted</td>\n",
       "      <td>1344645290406670337</td>\n",
       "      <td>2019-12-18 21:47:49+00:00</td>\n",
       "      <td>bruna</td>\n",
       "      <td>httpbrunad</td>\n",
       "      <td>1104120204186005504</td>\n",
       "      <td>2020-12-31 14:03:14+00:00</td>\n",
       "      <td>covid espero que vc esteja fazendo as malas ne...</td>\n",
       "      <td>2019-03-08 20:42:25+00:00</td>\n",
       "      <td>hemi</td>\n",
       "      <td>hemillyy_f</td>\n",
       "    </tr>\n",
       "    <tr>\n",
       "      <th>3</th>\n",
       "      <td>1156007564938604545</td>\n",
       "      <td>2021-01-01 00:06:38+00:00</td>\n",
       "      <td>1344797140871217159</td>\n",
       "      <td>RT @mferracinii: covid espero que vc esteja fa...</td>\n",
       "      <td>retweeted</td>\n",
       "      <td>1344645290406670337</td>\n",
       "      <td>2019-07-30 01:04:15+00:00</td>\n",
       "      <td>gutinˢᵖᶠᶜ</td>\n",
       "      <td>lilgu777</td>\n",
       "      <td>1104120204186005504</td>\n",
       "      <td>2020-12-31 14:03:14+00:00</td>\n",
       "      <td>covid espero que vc esteja fazendo as malas ne...</td>\n",
       "      <td>2019-03-08 20:42:25+00:00</td>\n",
       "      <td>hemi</td>\n",
       "      <td>hemillyy_f</td>\n",
       "    </tr>\n",
       "    <tr>\n",
       "      <th>4</th>\n",
       "      <td>1182836155693359104</td>\n",
       "      <td>2021-01-01 00:06:33+00:00</td>\n",
       "      <td>1344797123099897856</td>\n",
       "      <td>RT @mferracinii: covid espero que vc esteja fa...</td>\n",
       "      <td>retweeted</td>\n",
       "      <td>1344645290406670337</td>\n",
       "      <td>2019-10-12 01:51:40+00:00</td>\n",
       "      <td>deprimida cansada sobrecarregada fracassada e so✨</td>\n",
       "      <td>mendesrr1</td>\n",
       "      <td>1104120204186005504</td>\n",
       "      <td>2020-12-31 14:03:14+00:00</td>\n",
       "      <td>covid espero que vc esteja fazendo as malas ne...</td>\n",
       "      <td>2019-03-08 20:42:25+00:00</td>\n",
       "      <td>hemi</td>\n",
       "      <td>hemillyy_f</td>\n",
       "    </tr>\n",
       "    <tr>\n",
       "      <th>...</th>\n",
       "      <td>...</td>\n",
       "      <td>...</td>\n",
       "      <td>...</td>\n",
       "      <td>...</td>\n",
       "      <td>...</td>\n",
       "      <td>...</td>\n",
       "      <td>...</td>\n",
       "      <td>...</td>\n",
       "      <td>...</td>\n",
       "      <td>...</td>\n",
       "      <td>...</td>\n",
       "      <td>...</td>\n",
       "      <td>...</td>\n",
       "      <td>...</td>\n",
       "      <td>...</td>\n",
       "    </tr>\n",
       "    <tr>\n",
       "      <th>95</th>\n",
       "      <td>482975490</td>\n",
       "      <td>2021-01-01 00:04:13+00:00</td>\n",
       "      <td>1344796533208834049</td>\n",
       "      <td>RT @mferracinii: covid espero que vc esteja fa...</td>\n",
       "      <td>retweeted</td>\n",
       "      <td>1344645290406670337</td>\n",
       "      <td>2012-02-04 14:18:37+00:00</td>\n",
       "      <td>Mik 🦋✨</td>\n",
       "      <td>AnaMikaele_</td>\n",
       "      <td>1104120204186005504</td>\n",
       "      <td>2020-12-31 14:03:14+00:00</td>\n",
       "      <td>covid espero que vc esteja fazendo as malas ne...</td>\n",
       "      <td>2019-03-08 20:42:25+00:00</td>\n",
       "      <td>hemi</td>\n",
       "      <td>hemillyy_f</td>\n",
       "    </tr>\n",
       "    <tr>\n",
       "      <th>96</th>\n",
       "      <td>1255965501886431235</td>\n",
       "      <td>2021-01-01 00:04:10+00:00</td>\n",
       "      <td>1344796519942283264</td>\n",
       "      <td>RT @mferracinii: covid espero que vc esteja fa...</td>\n",
       "      <td>retweeted</td>\n",
       "      <td>1344645290406670337</td>\n",
       "      <td>2020-04-30 21:01:44+00:00</td>\n",
       "      <td>😼</td>\n",
       "      <td>Ev_crf</td>\n",
       "      <td>1104120204186005504</td>\n",
       "      <td>2020-12-31 14:03:14+00:00</td>\n",
       "      <td>covid espero que vc esteja fazendo as malas ne...</td>\n",
       "      <td>2019-03-08 20:42:25+00:00</td>\n",
       "      <td>hemi</td>\n",
       "      <td>hemillyy_f</td>\n",
       "    </tr>\n",
       "    <tr>\n",
       "      <th>97</th>\n",
       "      <td>1251752415398952963</td>\n",
       "      <td>2021-01-01 00:04:09+00:00</td>\n",
       "      <td>1344796518243561473</td>\n",
       "      <td>RT @mferracinii: covid espero que vc esteja fa...</td>\n",
       "      <td>retweeted</td>\n",
       "      <td>1344645290406670337</td>\n",
       "      <td>2020-04-19 06:00:19+00:00</td>\n",
       "      <td>m</td>\n",
       "      <td>Matheuszin_Crf</td>\n",
       "      <td>1104120204186005504</td>\n",
       "      <td>2020-12-31 14:03:14+00:00</td>\n",
       "      <td>covid espero que vc esteja fazendo as malas ne...</td>\n",
       "      <td>2019-03-08 20:42:25+00:00</td>\n",
       "      <td>hemi</td>\n",
       "      <td>hemillyy_f</td>\n",
       "    </tr>\n",
       "    <tr>\n",
       "      <th>98</th>\n",
       "      <td>1158449247764865024</td>\n",
       "      <td>2021-01-01 00:04:09+00:00</td>\n",
       "      <td>1344796517941604355</td>\n",
       "      <td>RT @mferracinii: covid espero que vc esteja fa...</td>\n",
       "      <td>retweeted</td>\n",
       "      <td>1344645290406670337</td>\n",
       "      <td>2019-08-05 18:46:38+00:00</td>\n",
       "      <td>é dixx</td>\n",
       "      <td>10__andrade</td>\n",
       "      <td>1104120204186005504</td>\n",
       "      <td>2020-12-31 14:03:14+00:00</td>\n",
       "      <td>covid espero que vc esteja fazendo as malas ne...</td>\n",
       "      <td>2019-03-08 20:42:25+00:00</td>\n",
       "      <td>hemi</td>\n",
       "      <td>hemillyy_f</td>\n",
       "    </tr>\n",
       "    <tr>\n",
       "      <th>99</th>\n",
       "      <td>721003725884694529</td>\n",
       "      <td>2021-01-01 00:04:09+00:00</td>\n",
       "      <td>1344796515429191680</td>\n",
       "      <td>RT @mferracinii: covid espero que vc esteja fa...</td>\n",
       "      <td>retweeted</td>\n",
       "      <td>1344645290406670337</td>\n",
       "      <td>2016-04-15 15:54:18+00:00</td>\n",
       "      <td>Rebecca Condoisce</td>\n",
       "      <td>rebeccafroio</td>\n",
       "      <td>1104120204186005504</td>\n",
       "      <td>2020-12-31 14:03:14+00:00</td>\n",
       "      <td>covid espero que vc esteja fazendo as malas ne...</td>\n",
       "      <td>2019-03-08 20:42:25+00:00</td>\n",
       "      <td>hemi</td>\n",
       "      <td>hemillyy_f</td>\n",
       "    </tr>\n",
       "  </tbody>\n",
       "</table>\n",
       "<p>100 rows × 15 columns</p>\n",
       "</div>"
      ],
      "text/plain": [
       "              author_id                 created_at                   id  \\\n",
       "0            1521088908  2021-01-01 00:06:44+00:00  1344797168524288003   \n",
       "1             460483793  2021-01-01 00:06:42+00:00  1344797160588668930   \n",
       "2   1207417151621140480  2021-01-01 00:06:40+00:00  1344797150039973888   \n",
       "3   1156007564938604545  2021-01-01 00:06:38+00:00  1344797140871217159   \n",
       "4   1182836155693359104  2021-01-01 00:06:33+00:00  1344797123099897856   \n",
       "..                  ...                        ...                  ...   \n",
       "95            482975490  2021-01-01 00:04:13+00:00  1344796533208834049   \n",
       "96  1255965501886431235  2021-01-01 00:04:10+00:00  1344796519942283264   \n",
       "97  1251752415398952963  2021-01-01 00:04:09+00:00  1344796518243561473   \n",
       "98  1158449247764865024  2021-01-01 00:04:09+00:00  1344796517941604355   \n",
       "99   721003725884694529  2021-01-01 00:04:09+00:00  1344796515429191680   \n",
       "\n",
       "                                                 text referenced_tweets_type  \\\n",
       "0   RT @mferracinii: covid espero que vc esteja fa...              retweeted   \n",
       "1   RT @mferracinii: covid espero que vc esteja fa...              retweeted   \n",
       "2   RT @mferracinii: covid espero que vc esteja fa...              retweeted   \n",
       "3   RT @mferracinii: covid espero que vc esteja fa...              retweeted   \n",
       "4   RT @mferracinii: covid espero que vc esteja fa...              retweeted   \n",
       "..                                                ...                    ...   \n",
       "95  RT @mferracinii: covid espero que vc esteja fa...              retweeted   \n",
       "96  RT @mferracinii: covid espero que vc esteja fa...              retweeted   \n",
       "97  RT @mferracinii: covid espero que vc esteja fa...              retweeted   \n",
       "98  RT @mferracinii: covid espero que vc esteja fa...              retweeted   \n",
       "99  RT @mferracinii: covid espero que vc esteja fa...              retweeted   \n",
       "\n",
       "    referenced_tweets_id          author_created_at  \\\n",
       "0    1344645290406670337  2013-06-16 03:52:00+00:00   \n",
       "1    1344645290406670337  2012-01-10 20:19:38+00:00   \n",
       "2    1344645290406670337  2019-12-18 21:47:49+00:00   \n",
       "3    1344645290406670337  2019-07-30 01:04:15+00:00   \n",
       "4    1344645290406670337  2019-10-12 01:51:40+00:00   \n",
       "..                   ...                        ...   \n",
       "95   1344645290406670337  2012-02-04 14:18:37+00:00   \n",
       "96   1344645290406670337  2020-04-30 21:01:44+00:00   \n",
       "97   1344645290406670337  2020-04-19 06:00:19+00:00   \n",
       "98   1344645290406670337  2019-08-05 18:46:38+00:00   \n",
       "99   1344645290406670337  2016-04-15 15:54:18+00:00   \n",
       "\n",
       "                                          author_name author_username  \\\n",
       "0                                  Nathália Pagliasse   natpagliiasse   \n",
       "1                                    #MakeItShine ✈🎒🌎       maycon_gn   \n",
       "2                                               bruna      httpbrunad   \n",
       "3                                           gutinˢᵖᶠᶜ        lilgu777   \n",
       "4   deprimida cansada sobrecarregada fracassada e so✨       mendesrr1   \n",
       "..                                                ...             ...   \n",
       "95                                             Mik 🦋✨     AnaMikaele_   \n",
       "96                                                  😼          Ev_crf   \n",
       "97                                                  m  Matheuszin_Crf   \n",
       "98                                             é dixx     10__andrade   \n",
       "99                                  Rebecca Condoisce    rebeccafroio   \n",
       "\n",
       "    referenced_tweets_author_id referenced_tweets_created_at  \\\n",
       "0           1104120204186005504    2020-12-31 14:03:14+00:00   \n",
       "1           1104120204186005504    2020-12-31 14:03:14+00:00   \n",
       "2           1104120204186005504    2020-12-31 14:03:14+00:00   \n",
       "3           1104120204186005504    2020-12-31 14:03:14+00:00   \n",
       "4           1104120204186005504    2020-12-31 14:03:14+00:00   \n",
       "..                          ...                          ...   \n",
       "95          1104120204186005504    2020-12-31 14:03:14+00:00   \n",
       "96          1104120204186005504    2020-12-31 14:03:14+00:00   \n",
       "97          1104120204186005504    2020-12-31 14:03:14+00:00   \n",
       "98          1104120204186005504    2020-12-31 14:03:14+00:00   \n",
       "99          1104120204186005504    2020-12-31 14:03:14+00:00   \n",
       "\n",
       "                               referenced_tweets_text  \\\n",
       "0   covid espero que vc esteja fazendo as malas ne...   \n",
       "1   covid espero que vc esteja fazendo as malas ne...   \n",
       "2   covid espero que vc esteja fazendo as malas ne...   \n",
       "3   covid espero que vc esteja fazendo as malas ne...   \n",
       "4   covid espero que vc esteja fazendo as malas ne...   \n",
       "..                                                ...   \n",
       "95  covid espero que vc esteja fazendo as malas ne...   \n",
       "96  covid espero que vc esteja fazendo as malas ne...   \n",
       "97  covid espero que vc esteja fazendo as malas ne...   \n",
       "98  covid espero que vc esteja fazendo as malas ne...   \n",
       "99  covid espero que vc esteja fazendo as malas ne...   \n",
       "\n",
       "   referenced_tweets_author_created_at referenced_tweets_author_name  \\\n",
       "0            2019-03-08 20:42:25+00:00                          hemi   \n",
       "1            2019-03-08 20:42:25+00:00                          hemi   \n",
       "2            2019-03-08 20:42:25+00:00                          hemi   \n",
       "3            2019-03-08 20:42:25+00:00                          hemi   \n",
       "4            2019-03-08 20:42:25+00:00                          hemi   \n",
       "..                                 ...                           ...   \n",
       "95           2019-03-08 20:42:25+00:00                          hemi   \n",
       "96           2019-03-08 20:42:25+00:00                          hemi   \n",
       "97           2019-03-08 20:42:25+00:00                          hemi   \n",
       "98           2019-03-08 20:42:25+00:00                          hemi   \n",
       "99           2019-03-08 20:42:25+00:00                          hemi   \n",
       "\n",
       "   referenced_tweets_author_username  \n",
       "0                         hemillyy_f  \n",
       "1                         hemillyy_f  \n",
       "2                         hemillyy_f  \n",
       "3                         hemillyy_f  \n",
       "4                         hemillyy_f  \n",
       "..                               ...  \n",
       "95                        hemillyy_f  \n",
       "96                        hemillyy_f  \n",
       "97                        hemillyy_f  \n",
       "98                        hemillyy_f  \n",
       "99                        hemillyy_f  \n",
       "\n",
       "[100 rows x 15 columns]"
      ]
     },
     "execution_count": 3,
     "metadata": {},
     "output_type": "execute_result"
    }
   ],
   "source": [
    "df.head(n=100)"
   ]
  },
  {
   "cell_type": "code",
   "execution_count": 4,
   "metadata": {},
   "outputs": [
    {
     "name": "stdout",
     "output_type": "stream",
     "text": [
      "<class 'pandas.core.frame.DataFrame'>\n",
      "Int64Index: 5315687 entries, 0 to 5315686\n",
      "Data columns (total 15 columns):\n",
      " #   Column                               Dtype \n",
      "---  ------                               ----- \n",
      " 0   author_id                            int64 \n",
      " 1   created_at                           object\n",
      " 2   id                                   int64 \n",
      " 3   text                                 object\n",
      " 4   referenced_tweets_type               object\n",
      " 5   referenced_tweets_id                 int64 \n",
      " 6   author_created_at                    object\n",
      " 7   author_name                          object\n",
      " 8   author_username                      object\n",
      " 9   referenced_tweets_author_id          int64 \n",
      " 10  referenced_tweets_created_at         object\n",
      " 11  referenced_tweets_text               object\n",
      " 12  referenced_tweets_author_created_at  object\n",
      " 13  referenced_tweets_author_name        object\n",
      " 14  referenced_tweets_author_username    object\n",
      "dtypes: int64(4), object(11)\n",
      "memory usage: 648.9+ MB\n"
     ]
    }
   ],
   "source": [
    "df.info()"
   ]
  },
  {
   "cell_type": "code",
   "execution_count": 5,
   "metadata": {},
   "outputs": [
    {
     "name": "stdout",
     "output_type": "stream",
     "text": [
      "Tweet 5000:\n",
      "RT @Estadao: Pesquisadores detectam dois casos em São Paulo da cepa B.1.1.7, nova variante do coronavírus\n",
      "https://t.co/n07qes3Vj6\n",
      "Tweet 8000:\n",
      "RT @lousadaimo: 2021 anos... mais do que idade para ires presa!! 😅😅quando isto do covid acabar fazemos a festa 😄🥳 https://t.co/Gh8NOzH4HV\n"
     ]
    }
   ],
   "source": [
    "print('Tweet 5000:')\n",
    "print(df['text'][5000])\n",
    "print('Tweet 8000:')\n",
    "print(df['text'][8000])"
   ]
  },
  {
   "cell_type": "code",
   "execution_count": 6,
   "metadata": {},
   "outputs": [
    {
     "name": "stdout",
     "output_type": "stream",
     "text": [
      "Tamanho do DataSet:  5315687\n",
      "Quantidade de tweets únicos:  353959\n",
      "Quantidade de usuários únicos que criaram tweets:  119799\n",
      "Quantidade de usuários únicos que fizeram retweets:  1111903\n",
      "Data do primeiro tweet: 07/10/2021. Data do último tweet: 05/11/2021\n"
     ]
    }
   ],
   "source": [
    "len(df['author_username'].unique())\n",
    "\n",
    "print('Tamanho do DataSet: ',len(df))\n",
    "print('Quantidade de tweets únicos: ',len(df['text'].unique()))\n",
    "print('Quantidade de usuários únicos que criaram tweets: ',len(df['referenced_tweets_author_username'].unique()))\n",
    "print('Quantidade de usuários únicos que fizeram retweets: ',len(df['author_username'].unique()))\n",
    "print('Data do primeiro tweet: 07/10/2021. Data do último tweet: 05/11/2021')\n",
    "\n",
    "\n"
   ]
  },
  {
   "cell_type": "code",
   "execution_count": 7,
   "metadata": {},
   "outputs": [
    {
     "name": "stdout",
     "output_type": "stream",
     "text": [
      "50 usuários que mais retweetaram:\n",
      "1ºQuartil:355 2°Quartil:376.5 3ºQuartil:464.75 Amplitude interquartílica: 109,75\n",
      "Limite Inferior:  190.375 Limite Superior:  629.375\n",
      "Média de retweets: 453.18000\n",
      "Bot_Corona_V     17508\n",
      "lucia98624147     2976\n",
      "odio_nao          2751\n",
      "MariaLCAb         2478\n",
      "Name: author_username, dtype: int64\n"
     ]
    },
    {
     "data": {
      "image/png": "[encoded data removed]",
      "text/plain": [
       "<Figure size 720x576 with 1 Axes>"
      ]
     },
     "metadata": {
      "needs_background": "light"
     },
     "output_type": "display_data"
    }
   ],
   "source": [
    "print(\"50 usuários que mais retweetaram:\")\n",
    "\n",
    "freq = df['author_username'].value_counts()\n",
    "boxplot = freq.head(50).plot(kind=\"box\",title=\"BoxPlot dos 50 usuários que mais retweetaram\", ylabel=\"Qntd de Retweets\",  figsize=(10, 8)).get_figure()\n",
    "boxplot.savefig('boxplot.png')\n",
    "print(\"1ºQuartil:355 2°Quartil:376.5 3ºQuartil:464.75 Amplitude interquartílica: 109,75\")\n",
    "print(\"Limite Inferior: \",355-1.5*109.75,\"Limite Superior: \",464.75+1.5*109.75)\n",
    "print(\"Média de retweets: 453.18000\")\n",
    "print(freq.head(4))\n",
    "#freq.head(50).describe()"
   ]
  },
  {
   "cell_type": "code",
   "execution_count": 9,
   "metadata": {},
   "outputs": [
    {
     "name": "stdout",
     "output_type": "stream",
     "text": [
      "Quantidade de retweets do 280.000 usuários que menos postaram(entre 1 e 18 retweets):  280000\n",
      "Quantidade de retweets dos 5.000 usuários que mais postaram:  1260803\n",
      "Apenas  1.72 % dos usuários(média de retweets: 252.1606 ) foram responsáveis por  110.05 % dos retweets.\n"
     ]
    }
   ],
   "source": [
    "print(\"Quantidade de retweets do 280.000 usuários que menos postaram(entre 1 e 18 retweets): \",freq.tail(280000).sum())\n",
    "print(\"Quantidade de retweets dos 5.000 usuários que mais postaram: \",freq.head(5000).sum())\n",
    "\n",
    "print(\"Apenas \",round(5000*100/290799,2),\"% dos usuários(média de retweets:\",freq.head(5000).mean(),\") foram responsáveis por \",round(freq.head(5000).sum()*100/1145707,2),\"% dos retweets.\")\n",
    "\n"
   ]
  },
  {
   "cell_type": "code",
   "execution_count": 10,
   "metadata": {},
   "outputs": [
    {
     "data": {
      "text/plain": [
       "Bot_Corona_V       17508\n",
       "lucia98624147       2976\n",
       "odio_nao            2751\n",
       "MariaLCAb           2478\n",
       "jornalistavitor     2126\n",
       "alexandrester       2066\n",
       "sonia_divinaa       1958\n",
       "diraholanda         1903\n",
       "patrickfranca       1894\n",
       "89nuncamais         1866\n",
       "Mulher_Noticia      1819\n",
       "silvrib             1767\n",
       "JoseAloiseBahia     1729\n",
       "bellaciaubella      1629\n",
       "PimMaiden           1626\n",
       "joaosergio          1596\n",
       "mirsantos           1535\n",
       "CandiaCrf           1510\n",
       "Erbl1958            1468\n",
       "Andreia92447712     1425\n",
       "Supervisora         1399\n",
       "siafurleron         1396\n",
       "corona_news_br      1394\n",
       "RodP13              1392\n",
       "NaTransversal       1371\n",
       "Saodionisio         1357\n",
       "dieviviarruda       1346\n",
       "FabianoCFX          1342\n",
       "BLOGdoPEPE          1309\n",
       "Brasil_Livre        1291\n",
       "MariaCidada1        1272\n",
       "camposamd           1262\n",
       "joaovitorbt         1255\n",
       "bonassoli           1247\n",
       "GeanPau40687065     1238\n",
       "MoyenneA            1232\n",
       "liamabat            1223\n",
       "LRoger_Arq          1215\n",
       "denio_vale          1204\n",
       "EveraldoMota        1195\n",
       "Analima_alef        1195\n",
       "acg747              1189\n",
       "souza_maurilio      1178\n",
       "ubaldobarbosa       1176\n",
       "alinadpc1           1173\n",
       "MDyonisio           1168\n",
       "gayLulista13        1167\n",
       "JampaRobo           1166\n",
       "Edvaldo71383333     1166\n",
       "RecifeBot           1163\n",
       "Name: author_username, dtype: int64"
      ]
     },
     "execution_count": 10,
     "metadata": {},
     "output_type": "execute_result"
    }
   ],
   "source": [
    "freq.head(50)"
   ]
  },
  {
   "cell_type": "code",
   "execution_count": 11,
   "metadata": {},
   "outputs": [
    {
     "name": "stdout",
     "output_type": "stream",
     "text": [
      "Usuários que criaram tweets:\n",
      "1ºQuartil:355 2°Quartil:376.5 3ºQuartil:464.75 Amplitude interquartílica: 109,75\n",
      "Limite Inferior:  190.375 Limite Superior:  629.375\n",
      "Média de retweets: 453.18000\n",
      "g1              98117\n",
      "revistaoeste    83412\n",
      "oatila          71772\n",
      "nionozzi        35744\n",
      "Name: referenced_tweets_author_username, dtype: int64\n"
     ]
    },
    {
     "data": {
      "text/plain": [
       "count    119799.000000\n",
       "mean         44.371714\n",
       "std         728.679982\n",
       "min           1.000000\n",
       "25%           1.000000\n",
       "50%           2.000000\n",
       "75%           4.000000\n",
       "max       98117.000000\n",
       "Name: referenced_tweets_author_username, dtype: float64"
      ]
     },
     "execution_count": 11,
     "metadata": {},
     "output_type": "execute_result"
    },
    {
     "data": {
      "image/png": "[encoded data removed]",
      "text/plain": [
       "<Figure size 720x576 with 1 Axes>"
      ]
     },
     "metadata": {
      "needs_background": "light"
     },
     "output_type": "display_data"
    }
   ],
   "source": [
    "print(\"Usuários que criaram tweets:\")\n",
    "\n",
    "\n",
    "freq2 = df['referenced_tweets_author_username'].value_counts()\n",
    "boxplot = freq2.head(50).plot(kind=\"box\",title=\"BoxPlot dos 50 usuários que mais retweetaram\", ylabel=\"Qntd de Retweets\",  figsize=(10, 8)).get_figure()\n",
    "boxplot.savefig('boxplot.png')\n",
    "print(\"1ºQuartil:355 2°Quartil:376.5 3ºQuartil:464.75 Amplitude interquartílica: 109,75\")\n",
    "print(\"Limite Inferior: \",355-1.5*109.75,\"Limite Superior: \",464.75+1.5*109.75)\n",
    "print(\"Média de retweets: 453.18000\")\n",
    "print(freq2.head(4))\n",
    "freq2.describe()"
   ]
  },
  {
   "cell_type": "code",
   "execution_count": 12,
   "metadata": {},
   "outputs": [
    {
     "data": {
      "text/plain": [
       "g1                 98117\n",
       "revistaoeste       83412\n",
       "oatila             71772\n",
       "nionozzi           35744\n",
       "jandira_feghali    35272\n",
       "OsmarTerra         34849\n",
       "graciptb14         34828\n",
       "cretinaofc         33875\n",
       "GuilhermeBoulos    33858\n",
       "folha              33720\n",
       "jairbolsonaro      33621\n",
       "SigaGazetaBR       33520\n",
       "UOLNoticias        31380\n",
       "CarlaZambelli38    29278\n",
       "brasil247          29175\n",
       "ZeKley             27676\n",
       "Ann4Castro         26703\n",
       "CNNBrasil          26051\n",
       "butantanoficial    25483\n",
       "revistaforum       24332\n",
       "DCM_online         24168\n",
       "apaixonarei        24082\n",
       "oixama             23849\n",
       "ciclopin           23464\n",
       "necrosadah         23226\n",
       "CoronavirusBra1    22971\n",
       "guinapolitano      22846\n",
       "conexaopolitica    21938\n",
       "Biakicis           21217\n",
       "pkfreestyleiro     20910\n",
       "hemillyy_f         19997\n",
       "Estadao            19773\n",
       "nukizera           19334\n",
       "gmariah_           17975\n",
       "BrazilFight        17708\n",
       "o_antagonista      17696\n",
       "reinaldoazevedo    17345\n",
       "Clauwild1          17061\n",
       "FilosofiaMderna    16979\n",
       "UOL                16953\n",
       "danielPMERJ        16472\n",
       "BlogdoNoblat       16335\n",
       "UzalaAntifa        16226\n",
       "jvttoso            15780\n",
       "marinapovoa_       15628\n",
       "v_dosfatos         15459\n",
       "QuebrandoOTabu     15382\n",
       "mitags             15314\n",
       "FotosDeFatos       15268\n",
       "ThomasVConti       14771\n",
       "Name: referenced_tweets_author_username, dtype: int64"
      ]
     },
     "execution_count": 12,
     "metadata": {},
     "output_type": "execute_result"
    }
   ],
   "source": [
    "freq2.head(50)"
   ]
  },
  {
   "cell_type": "code",
   "execution_count": 13,
   "metadata": {},
   "outputs": [
    {
     "name": "stdout",
     "output_type": "stream",
     "text": [
      "Quantidade de usuários únicos que fizeram retweets:  2887072\n",
      "ok\n"
     ]
    }
   ],
   "source": [
    "print('Quantidade de usuários únicos que fizeram retweets: ',len(df['created_at'].unique()))\n",
    "data2 = df.set_index(['created_at'])\n",
    "data2.index = pd.to_datetime(data2.index)\n",
    "print('ok')"
   ]
  },
  {
   "cell_type": "code",
   "execution_count": 14,
   "metadata": {
    "scrolled": true
   },
   "outputs": [],
   "source": [
    "data2.insert(0,\"valor\",1,True)"
   ]
  },
  {
   "cell_type": "code",
   "execution_count": 15,
   "metadata": {},
   "outputs": [
    {
     "data": {
      "image/png": "[encoded data removed]",
      "text/plain": [
       "<Figure size 720x576 with 1 Axes>"
      ]
     },
     "metadata": {
      "needs_background": "light"
     },
     "output_type": "display_data"
    }
   ],
   "source": [
    "tabela = data2.resample('H').valor.sum()\n",
    "mes = tabela.plot(xlabel=\"Dia\",ylabel=\"Qntd de Retweets\",  figsize=(10, 8),title= \"Retweets x Dia entre 07/10 e 05/11\").get_figure()\n",
    "mes.savefig('mes.png')\n"
   ]
  },
  {
   "cell_type": "code",
   "execution_count": 69,
   "metadata": {},
   "outputs": [],
   "source": [
    "tabela.to_csv(\"horas_tweets.csv\")"
   ]
  },
  {
   "cell_type": "code",
   "execution_count": 16,
   "metadata": {},
   "outputs": [
    {
     "data": {
      "text/plain": [
       "created_at\n",
       "2021-01-01 00:00:00+00:00     6632\n",
       "2021-01-01 01:00:00+00:00     7166\n",
       "2021-01-01 02:00:00+00:00     8602\n",
       "2021-01-01 03:00:00+00:00    15314\n",
       "2021-01-01 04:00:00+00:00    10157\n",
       "                             ...  \n",
       "2021-02-28 19:00:00+00:00     4828\n",
       "2021-02-28 20:00:00+00:00     5582\n",
       "2021-02-28 21:00:00+00:00     6975\n",
       "2021-02-28 22:00:00+00:00     7279\n",
       "2021-02-28 23:00:00+00:00     8245\n",
       "Freq: H, Name: valor, Length: 1416, dtype: int64"
      ]
     },
     "execution_count": 16,
     "metadata": {},
     "output_type": "execute_result"
    }
   ],
   "source": [
    "# tabela2 = pd.read_csv('./tweets_horas2.csv', sep = ';')\n",
    "# tabela2\n",
    "tabela"
   ]
  },
  {
   "cell_type": "code",
   "execution_count": 86,
   "metadata": {},
   "outputs": [
    {
     "name": "stdout",
     "output_type": "stream",
     "text": [
      "Quantidade média de tweets por hora: 1544.0795148247978\n"
     ]
    }
   ],
   "source": [
    "print(\"Quantidade média de tweets por hora:\",tabela2.qntd.mean())"
   ]
  },
  {
   "cell_type": "code",
   "execution_count": 157,
   "metadata": {},
   "outputs": [],
   "source": [
    "tabela3 = tabela2.set_index(['hora'])\n",
    "tabela3.index = pd.to_datetime(tabela3.index)\n",
    "tabela3.insert(0,'hora',tabela3.index.hour,True)\n",
    "tabela3 = tabela3.resample('H').qntd.sum()"
   ]
  },
  {
   "cell_type": "code",
   "execution_count": 246,
   "metadata": {},
   "outputs": [
    {
     "data": {
      "image/png": "[encoded data removed]",
      "text/plain": [
       "<Figure size 720x576 with 1 Axes>"
      ]
     },
     "metadata": {
      "needs_background": "light"
     },
     "output_type": "display_data"
    }
   ],
   "source": [
    "tabela4 = pd.DataFrame({'hora':tabela3.index.hour, 'qntd':tabela3})\n",
    "horario = tabela4.plot(x='hora',kind='bar',xlabel=\"Horário\",ylabel=\"Qntd de Retweets\",legend=\"\",  figsize=(10, 8),title= \"Quantidade de Tweets de acordo com o Horário\").get_figure()\n",
    "horario.savefig('horario.png')"
   ]
  },
  {
   "cell_type": "code",
   "execution_count": 146,
   "metadata": {},
   "outputs": [
    {
     "data": {
      "text/plain": [
       "Int64Index([ 0,  1,  2,  3,  4,  5,  6,  7,  8,  9, 10, 11, 12, 13, 14, 15, 16,\n",
       "            17, 18, 19, 20, 21, 22, 23],\n",
       "           dtype='int64', name='hora')"
      ]
     },
     "execution_count": 146,
     "metadata": {},
     "output_type": "execute_result"
    }
   ],
   "source": [
    "tabela3.index.hour\n"
   ]
  }
 ],
 "metadata": {
  "kernelspec": {
   "display_name": "Python 3",
   "language": "python",
   "name": "python3"
  },
  "language_info": {
   "codemirror_mode": {
    "name": "ipython",
    "version": 3
   },
   "file_extension": ".py",
   "mimetype": "text/x-python",
   "name": "python",
   "nbconvert_exporter": "python",
   "pygments_lexer": "ipython3",
   "version": "3.9.7"
  }
 },
 "nbformat": 4,
 "nbformat_minor": 5
}
